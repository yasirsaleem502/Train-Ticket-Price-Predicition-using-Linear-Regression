{
 "cells": [
  {
   "cell_type": "markdown",
   "id": "42b06e4a",
   "metadata": {
    "papermill": {
     "duration": 0.02618,
     "end_time": "2022-09-19T05:12:08.120754",
     "exception": false,
     "start_time": "2022-09-19T05:12:08.094574",
     "status": "completed"
    },
    "tags": []
   },
   "source": [
    "# Ticket Pricing  Montioring System "
   ]
  },
  {
   "cell_type": "markdown",
   "id": "382d5b7f",
   "metadata": {
    "papermill": {
     "duration": 0.023579,
     "end_time": "2022-09-19T05:12:08.169228",
     "exception": false,
     "start_time": "2022-09-19T05:12:08.145649",
     "status": "completed"
    },
    "tags": []
   },
   "source": [
    "This is a tickets pricing monitoring system. It scrapes tickets pricing data periodically and stores it in a database. Ticket pricing changes based on demand and time, and there can be significant difference in price. We are creating this product mainly with ourselves in mind. Users can set up alarms using an email, choosing an origin and destination (cities), time (date and hour range picker) choosing a price reduction over mean price, etc."
   ]
  },
  {
   "cell_type": "markdown",
   "id": "daaad7b4",
   "metadata": {
    "papermill": {
     "duration": 0.023319,
     "end_time": "2022-09-19T05:12:08.216612",
     "exception": false,
     "start_time": "2022-09-19T05:12:08.193293",
     "status": "completed"
    },
    "tags": []
   },
   "source": [
    "### Following is the description for columns in the dataset**<br>\n",
    "- insert_date: date and time when the price was collected and written in the database<br>\n",
    "- origin: origin city <br>\n",
    "- destination: destination city <br>\n",
    "- start_date: train departure time<br>\n",
    "- end_date: train arrival time<br>\n",
    "- train_type: train service name<br>\n",
    "- price: price<br>\n",
    "- train_class: ticket class, tourist, business, etc.<br>\n",
    "- fare: ticket fare, round trip, etc <br>"
   ]
  },
  {
   "cell_type": "code",
   "execution_count": 1,
   "id": "496eaf0e",
   "metadata": {
    "execution": {
     "iopub.execute_input": "2022-09-19T05:12:08.267312Z",
     "iopub.status.busy": "2022-09-19T05:12:08.266834Z",
     "iopub.status.idle": "2022-09-19T05:12:09.418626Z",
     "shell.execute_reply": "2022-09-19T05:12:09.417235Z"
    },
    "papermill": {
     "duration": 1.181327,
     "end_time": "2022-09-19T05:12:09.421871",
     "exception": false,
     "start_time": "2022-09-19T05:12:08.240544",
     "status": "completed"
    },
    "tags": []
   },
   "outputs": [],
   "source": [
    "import pandas as pd\n",
    "import numpy as np\n",
    "import seaborn as sns\n",
    "import matplotlib.pyplot as plt\n",
    "%matplotlib inline\n",
    "sns.set()"
   ]
  },
  {
   "cell_type": "markdown",
   "id": "23f489c2",
   "metadata": {
    "papermill": {
     "duration": 0.029877,
     "end_time": "2022-09-19T05:12:09.485310",
     "exception": false,
     "start_time": "2022-09-19T05:12:09.455433",
     "status": "completed"
    },
    "tags": []
   },
   "source": [
    "#### **Task 1: Import Dataset and create a copy of that dataset**"
   ]
  },
  {
   "cell_type": "code",
   "execution_count": 2,
   "id": "41239c64",
   "metadata": {
    "execution": {
     "iopub.execute_input": "2022-09-19T05:12:09.541085Z",
     "iopub.status.busy": "2022-09-19T05:12:09.540385Z",
     "iopub.status.idle": "2022-09-19T05:12:10.264477Z",
     "shell.execute_reply": "2022-09-19T05:12:10.263195Z"
    },
    "papermill": {
     "duration": 0.753518,
     "end_time": "2022-09-19T05:12:10.267657",
     "exception": false,
     "start_time": "2022-09-19T05:12:09.514139",
     "status": "completed"
    },
    "tags": []
   },
   "outputs": [],
   "source": [
    "#write code here\n",
    "data = pd.read_csv('../input/tickets-pricing-monitoring-system-dataset/data1.csv')\n",
    "df = data "
   ]
  },
  {
   "cell_type": "markdown",
   "id": "2cf0735e",
   "metadata": {
    "papermill": {
     "duration": 0.025592,
     "end_time": "2022-09-19T05:12:10.318134",
     "exception": false,
     "start_time": "2022-09-19T05:12:10.292542",
     "status": "completed"
    },
    "tags": []
   },
   "source": [
    "#### **Task 2: Display first five rows** "
   ]
  },
  {
   "cell_type": "code",
   "execution_count": 3,
   "id": "3eb96728",
   "metadata": {
    "execution": {
     "iopub.execute_input": "2022-09-19T05:12:10.368296Z",
     "iopub.status.busy": "2022-09-19T05:12:10.367836Z",
     "iopub.status.idle": "2022-09-19T05:12:10.403752Z",
     "shell.execute_reply": "2022-09-19T05:12:10.402365Z"
    },
    "papermill": {
     "duration": 0.064799,
     "end_time": "2022-09-19T05:12:10.407005",
     "exception": false,
     "start_time": "2022-09-19T05:12:10.342206",
     "status": "completed"
    },
    "tags": []
   },
   "outputs": [
    {
     "data": {
      "text/html": [
       "<div>\n",
       "<style scoped>\n",
       "    .dataframe tbody tr th:only-of-type {\n",
       "        vertical-align: middle;\n",
       "    }\n",
       "\n",
       "    .dataframe tbody tr th {\n",
       "        vertical-align: top;\n",
       "    }\n",
       "\n",
       "    .dataframe thead th {\n",
       "        text-align: right;\n",
       "    }\n",
       "</style>\n",
       "<table border=\"1\" class=\"dataframe\">\n",
       "  <thead>\n",
       "    <tr style=\"text-align: right;\">\n",
       "      <th></th>\n",
       "      <th>Unnamed: 0</th>\n",
       "      <th>insert_date</th>\n",
       "      <th>origin</th>\n",
       "      <th>destination</th>\n",
       "      <th>start_date</th>\n",
       "      <th>end_date</th>\n",
       "      <th>train_type</th>\n",
       "      <th>price</th>\n",
       "      <th>train_class</th>\n",
       "      <th>fare</th>\n",
       "    </tr>\n",
       "  </thead>\n",
       "  <tbody>\n",
       "    <tr>\n",
       "      <th>0</th>\n",
       "      <td>702</td>\n",
       "      <td>2019-04-19 05:37:35</td>\n",
       "      <td>PONFERRADA</td>\n",
       "      <td>MADRID</td>\n",
       "      <td>2019-06-02 15:00:00</td>\n",
       "      <td>2019-06-02 19:42:00</td>\n",
       "      <td>MD-AVE</td>\n",
       "      <td>59.50</td>\n",
       "      <td>Turista con enlace</td>\n",
       "      <td>Flexible</td>\n",
       "    </tr>\n",
       "    <tr>\n",
       "      <th>1</th>\n",
       "      <td>703</td>\n",
       "      <td>2019-04-19 05:37:35</td>\n",
       "      <td>PONFERRADA</td>\n",
       "      <td>MADRID</td>\n",
       "      <td>2019-06-02 17:15:00</td>\n",
       "      <td>2019-06-02 23:03:00</td>\n",
       "      <td>MD-AVE</td>\n",
       "      <td>34.65</td>\n",
       "      <td>Turista con enlace</td>\n",
       "      <td>Promo +</td>\n",
       "    </tr>\n",
       "    <tr>\n",
       "      <th>2</th>\n",
       "      <td>704</td>\n",
       "      <td>2019-04-19 05:37:35</td>\n",
       "      <td>PONFERRADA</td>\n",
       "      <td>MADRID</td>\n",
       "      <td>2019-06-02 17:15:00</td>\n",
       "      <td>2019-06-02 23:10:00</td>\n",
       "      <td>MD-LD</td>\n",
       "      <td>39.95</td>\n",
       "      <td>Turista con enlace</td>\n",
       "      <td>Promo +</td>\n",
       "    </tr>\n",
       "    <tr>\n",
       "      <th>3</th>\n",
       "      <td>705</td>\n",
       "      <td>2019-04-19 05:37:35</td>\n",
       "      <td>PONFERRADA</td>\n",
       "      <td>MADRID</td>\n",
       "      <td>2019-06-02 17:15:00</td>\n",
       "      <td>2019-06-02 22:14:00</td>\n",
       "      <td>MD-AVE</td>\n",
       "      <td>40.60</td>\n",
       "      <td>Turista con enlace</td>\n",
       "      <td>Promo +</td>\n",
       "    </tr>\n",
       "    <tr>\n",
       "      <th>4</th>\n",
       "      <td>706</td>\n",
       "      <td>2019-04-19 05:37:35</td>\n",
       "      <td>PONFERRADA</td>\n",
       "      <td>MADRID</td>\n",
       "      <td>2019-06-02 18:55:00</td>\n",
       "      <td>2019-06-02 23:03:00</td>\n",
       "      <td>ALVIA</td>\n",
       "      <td>27.90</td>\n",
       "      <td>Turista</td>\n",
       "      <td>Promo</td>\n",
       "    </tr>\n",
       "    <tr>\n",
       "      <th>...</th>\n",
       "      <td>...</td>\n",
       "      <td>...</td>\n",
       "      <td>...</td>\n",
       "      <td>...</td>\n",
       "      <td>...</td>\n",
       "      <td>...</td>\n",
       "      <td>...</td>\n",
       "      <td>...</td>\n",
       "      <td>...</td>\n",
       "      <td>...</td>\n",
       "    </tr>\n",
       "    <tr>\n",
       "      <th>95</th>\n",
       "      <td>2015</td>\n",
       "      <td>2019-04-19 06:02:32</td>\n",
       "      <td>MADRID</td>\n",
       "      <td>BARCELONA</td>\n",
       "      <td>2019-06-02 16:30:00</td>\n",
       "      <td>2019-06-02 19:15:00</td>\n",
       "      <td>AVE</td>\n",
       "      <td>98.00</td>\n",
       "      <td>Preferente</td>\n",
       "      <td>Promo</td>\n",
       "    </tr>\n",
       "    <tr>\n",
       "      <th>96</th>\n",
       "      <td>2016</td>\n",
       "      <td>2019-04-19 06:02:32</td>\n",
       "      <td>MADRID</td>\n",
       "      <td>BARCELONA</td>\n",
       "      <td>2019-06-02 17:00:00</td>\n",
       "      <td>2019-06-02 19:30:00</td>\n",
       "      <td>AVE</td>\n",
       "      <td>88.95</td>\n",
       "      <td>Turista</td>\n",
       "      <td>Promo</td>\n",
       "    </tr>\n",
       "    <tr>\n",
       "      <th>97</th>\n",
       "      <td>2017</td>\n",
       "      <td>2019-04-19 06:02:32</td>\n",
       "      <td>MADRID</td>\n",
       "      <td>BARCELONA</td>\n",
       "      <td>2019-06-02 17:30:00</td>\n",
       "      <td>2019-06-02 20:40:00</td>\n",
       "      <td>AVE</td>\n",
       "      <td>98.00</td>\n",
       "      <td>Preferente</td>\n",
       "      <td>Promo</td>\n",
       "    </tr>\n",
       "    <tr>\n",
       "      <th>98</th>\n",
       "      <td>2018</td>\n",
       "      <td>2019-04-19 06:02:32</td>\n",
       "      <td>MADRID</td>\n",
       "      <td>BARCELONA</td>\n",
       "      <td>2019-06-02 18:00:00</td>\n",
       "      <td>2019-06-02 20:30:00</td>\n",
       "      <td>AVE</td>\n",
       "      <td>100.40</td>\n",
       "      <td>Turista</td>\n",
       "      <td>Promo</td>\n",
       "    </tr>\n",
       "    <tr>\n",
       "      <th>99</th>\n",
       "      <td>2019</td>\n",
       "      <td>2019-04-19 06:02:32</td>\n",
       "      <td>MADRID</td>\n",
       "      <td>BARCELONA</td>\n",
       "      <td>2019-06-02 18:30:00</td>\n",
       "      <td>2019-06-02 21:20:00</td>\n",
       "      <td>AVE</td>\n",
       "      <td>98.00</td>\n",
       "      <td>Preferente</td>\n",
       "      <td>Promo</td>\n",
       "    </tr>\n",
       "  </tbody>\n",
       "</table>\n",
       "<p>100 rows × 10 columns</p>\n",
       "</div>"
      ],
      "text/plain": [
       "    Unnamed: 0          insert_date      origin destination  \\\n",
       "0          702  2019-04-19 05:37:35  PONFERRADA      MADRID   \n",
       "1          703  2019-04-19 05:37:35  PONFERRADA      MADRID   \n",
       "2          704  2019-04-19 05:37:35  PONFERRADA      MADRID   \n",
       "3          705  2019-04-19 05:37:35  PONFERRADA      MADRID   \n",
       "4          706  2019-04-19 05:37:35  PONFERRADA      MADRID   \n",
       "..         ...                  ...         ...         ...   \n",
       "95        2015  2019-04-19 06:02:32      MADRID   BARCELONA   \n",
       "96        2016  2019-04-19 06:02:32      MADRID   BARCELONA   \n",
       "97        2017  2019-04-19 06:02:32      MADRID   BARCELONA   \n",
       "98        2018  2019-04-19 06:02:32      MADRID   BARCELONA   \n",
       "99        2019  2019-04-19 06:02:32      MADRID   BARCELONA   \n",
       "\n",
       "             start_date             end_date train_type   price  \\\n",
       "0   2019-06-02 15:00:00  2019-06-02 19:42:00     MD-AVE   59.50   \n",
       "1   2019-06-02 17:15:00  2019-06-02 23:03:00     MD-AVE   34.65   \n",
       "2   2019-06-02 17:15:00  2019-06-02 23:10:00      MD-LD   39.95   \n",
       "3   2019-06-02 17:15:00  2019-06-02 22:14:00     MD-AVE   40.60   \n",
       "4   2019-06-02 18:55:00  2019-06-02 23:03:00      ALVIA   27.90   \n",
       "..                  ...                  ...        ...     ...   \n",
       "95  2019-06-02 16:30:00  2019-06-02 19:15:00        AVE   98.00   \n",
       "96  2019-06-02 17:00:00  2019-06-02 19:30:00        AVE   88.95   \n",
       "97  2019-06-02 17:30:00  2019-06-02 20:40:00        AVE   98.00   \n",
       "98  2019-06-02 18:00:00  2019-06-02 20:30:00        AVE  100.40   \n",
       "99  2019-06-02 18:30:00  2019-06-02 21:20:00        AVE   98.00   \n",
       "\n",
       "           train_class      fare  \n",
       "0   Turista con enlace  Flexible  \n",
       "1   Turista con enlace   Promo +  \n",
       "2   Turista con enlace   Promo +  \n",
       "3   Turista con enlace   Promo +  \n",
       "4              Turista     Promo  \n",
       "..                 ...       ...  \n",
       "95          Preferente     Promo  \n",
       "96             Turista     Promo  \n",
       "97          Preferente     Promo  \n",
       "98             Turista     Promo  \n",
       "99          Preferente     Promo  \n",
       "\n",
       "[100 rows x 10 columns]"
      ]
     },
     "execution_count": 3,
     "metadata": {},
     "output_type": "execute_result"
    }
   ],
   "source": [
    "#write code here\n",
    "df.head(100)"
   ]
  },
  {
   "cell_type": "markdown",
   "id": "00261b58",
   "metadata": {
    "papermill": {
     "duration": 0.024599,
     "end_time": "2022-09-19T05:12:10.456962",
     "exception": false,
     "start_time": "2022-09-19T05:12:10.432363",
     "status": "completed"
    },
    "tags": []
   },
   "source": [
    "#### **Task 3: Drop 'unnamed: 0' column**"
   ]
  },
  {
   "cell_type": "code",
   "execution_count": 4,
   "id": "014dab8e",
   "metadata": {
    "execution": {
     "iopub.execute_input": "2022-09-19T05:12:10.508741Z",
     "iopub.status.busy": "2022-09-19T05:12:10.507970Z",
     "iopub.status.idle": "2022-09-19T05:12:10.541613Z",
     "shell.execute_reply": "2022-09-19T05:12:10.540011Z"
    },
    "papermill": {
     "duration": 0.062905,
     "end_time": "2022-09-19T05:12:10.544708",
     "exception": false,
     "start_time": "2022-09-19T05:12:10.481803",
     "status": "completed"
    },
    "tags": []
   },
   "outputs": [],
   "source": [
    "#write code here\n",
    "df.drop('Unnamed: 0',axis=1,inplace=True)"
   ]
  },
  {
   "cell_type": "markdown",
   "id": "c626f353",
   "metadata": {
    "papermill": {
     "duration": 0.025512,
     "end_time": "2022-09-19T05:12:10.595529",
     "exception": false,
     "start_time": "2022-09-19T05:12:10.570017",
     "status": "completed"
    },
    "tags": []
   },
   "source": [
    "#### **Task 4: Check the number of rows and columns**"
   ]
  },
  {
   "cell_type": "code",
   "execution_count": 5,
   "id": "1ac074e9",
   "metadata": {
    "execution": {
     "iopub.execute_input": "2022-09-19T05:12:10.647882Z",
     "iopub.status.busy": "2022-09-19T05:12:10.647477Z",
     "iopub.status.idle": "2022-09-19T05:12:10.654111Z",
     "shell.execute_reply": "2022-09-19T05:12:10.652905Z"
    },
    "papermill": {
     "duration": 0.035698,
     "end_time": "2022-09-19T05:12:10.656572",
     "exception": false,
     "start_time": "2022-09-19T05:12:10.620874",
     "status": "completed"
    },
    "tags": []
   },
   "outputs": [
    {
     "data": {
      "text/plain": [
       "(215909, 9)"
      ]
     },
     "execution_count": 5,
     "metadata": {},
     "output_type": "execute_result"
    }
   ],
   "source": [
    "#write code here\n",
    "df.shape"
   ]
  },
  {
   "cell_type": "markdown",
   "id": "4c134014",
   "metadata": {
    "papermill": {
     "duration": 0.024714,
     "end_time": "2022-09-19T05:12:10.705886",
     "exception": false,
     "start_time": "2022-09-19T05:12:10.681172",
     "status": "completed"
    },
    "tags": []
   },
   "source": [
    "#### **Task 5: Check data types of all columns**"
   ]
  },
  {
   "cell_type": "code",
   "execution_count": 6,
   "id": "9b22e8c1",
   "metadata": {
    "execution": {
     "iopub.execute_input": "2022-09-19T05:12:10.757156Z",
     "iopub.status.busy": "2022-09-19T05:12:10.756708Z",
     "iopub.status.idle": "2022-09-19T05:12:10.764654Z",
     "shell.execute_reply": "2022-09-19T05:12:10.763748Z"
    },
    "papermill": {
     "duration": 0.036419,
     "end_time": "2022-09-19T05:12:10.767034",
     "exception": false,
     "start_time": "2022-09-19T05:12:10.730615",
     "status": "completed"
    },
    "tags": []
   },
   "outputs": [
    {
     "data": {
      "text/plain": [
       "insert_date     object\n",
       "origin          object\n",
       "destination     object\n",
       "start_date      object\n",
       "end_date        object\n",
       "train_type      object\n",
       "price          float64\n",
       "train_class     object\n",
       "fare            object\n",
       "dtype: object"
      ]
     },
     "execution_count": 6,
     "metadata": {},
     "output_type": "execute_result"
    }
   ],
   "source": [
    "#write code here\n",
    "df.dtypes"
   ]
  },
  {
   "cell_type": "markdown",
   "id": "868c2e14",
   "metadata": {
    "papermill": {
     "duration": 0.025362,
     "end_time": "2022-09-19T05:12:10.818885",
     "exception": false,
     "start_time": "2022-09-19T05:12:10.793523",
     "status": "completed"
    },
    "tags": []
   },
   "source": [
    "#### **Task 6: Check summary statistics**"
   ]
  },
  {
   "cell_type": "code",
   "execution_count": 7,
   "id": "1e4f27eb",
   "metadata": {
    "execution": {
     "iopub.execute_input": "2022-09-19T05:12:10.870719Z",
     "iopub.status.busy": "2022-09-19T05:12:10.869955Z",
     "iopub.status.idle": "2022-09-19T05:12:11.124561Z",
     "shell.execute_reply": "2022-09-19T05:12:11.123237Z"
    },
    "papermill": {
     "duration": 0.283485,
     "end_time": "2022-09-19T05:12:11.127167",
     "exception": false,
     "start_time": "2022-09-19T05:12:10.843682",
     "status": "completed"
    },
    "tags": []
   },
   "outputs": [
    {
     "data": {
      "text/html": [
       "<div>\n",
       "<style scoped>\n",
       "    .dataframe tbody tr th:only-of-type {\n",
       "        vertical-align: middle;\n",
       "    }\n",
       "\n",
       "    .dataframe tbody tr th {\n",
       "        vertical-align: top;\n",
       "    }\n",
       "\n",
       "    .dataframe thead th {\n",
       "        text-align: right;\n",
       "    }\n",
       "</style>\n",
       "<table border=\"1\" class=\"dataframe\">\n",
       "  <thead>\n",
       "    <tr style=\"text-align: right;\">\n",
       "      <th></th>\n",
       "      <th>insert_date</th>\n",
       "      <th>origin</th>\n",
       "      <th>destination</th>\n",
       "      <th>start_date</th>\n",
       "      <th>end_date</th>\n",
       "      <th>train_type</th>\n",
       "      <th>train_class</th>\n",
       "      <th>fare</th>\n",
       "    </tr>\n",
       "  </thead>\n",
       "  <tbody>\n",
       "    <tr>\n",
       "      <th>count</th>\n",
       "      <td>215909</td>\n",
       "      <td>215909</td>\n",
       "      <td>215909</td>\n",
       "      <td>215909</td>\n",
       "      <td>215909</td>\n",
       "      <td>215909</td>\n",
       "      <td>215266</td>\n",
       "      <td>215266</td>\n",
       "    </tr>\n",
       "    <tr>\n",
       "      <th>unique</th>\n",
       "      <td>30543</td>\n",
       "      <td>5</td>\n",
       "      <td>5</td>\n",
       "      <td>2231</td>\n",
       "      <td>2870</td>\n",
       "      <td>16</td>\n",
       "      <td>5</td>\n",
       "      <td>5</td>\n",
       "    </tr>\n",
       "    <tr>\n",
       "      <th>top</th>\n",
       "      <td>2019-05-09 15:02:02</td>\n",
       "      <td>MADRID</td>\n",
       "      <td>MADRID</td>\n",
       "      <td>2019-06-02 17:30:00</td>\n",
       "      <td>2019-06-02 23:03:00</td>\n",
       "      <td>AVE</td>\n",
       "      <td>Turista</td>\n",
       "      <td>Promo</td>\n",
       "    </tr>\n",
       "    <tr>\n",
       "      <th>freq</th>\n",
       "      <td>90</td>\n",
       "      <td>110440</td>\n",
       "      <td>105469</td>\n",
       "      <td>2089</td>\n",
       "      <td>1278</td>\n",
       "      <td>126577</td>\n",
       "      <td>164016</td>\n",
       "      <td>132065</td>\n",
       "    </tr>\n",
       "  </tbody>\n",
       "</table>\n",
       "</div>"
      ],
      "text/plain": [
       "                insert_date  origin destination           start_date  \\\n",
       "count                215909  215909      215909               215909   \n",
       "unique                30543       5           5                 2231   \n",
       "top     2019-05-09 15:02:02  MADRID      MADRID  2019-06-02 17:30:00   \n",
       "freq                     90  110440      105469                 2089   \n",
       "\n",
       "                   end_date train_type train_class    fare  \n",
       "count                215909     215909      215266  215266  \n",
       "unique                 2870         16           5       5  \n",
       "top     2019-06-02 23:03:00        AVE     Turista   Promo  \n",
       "freq                   1278     126577      164016  132065  "
      ]
     },
     "execution_count": 7,
     "metadata": {},
     "output_type": "execute_result"
    }
   ],
   "source": [
    "#write code here\n",
    "df.describe(include='O')"
   ]
  },
  {
   "cell_type": "markdown",
   "id": "e3d17cae",
   "metadata": {
    "papermill": {
     "duration": 0.024949,
     "end_time": "2022-09-19T05:12:11.178143",
     "exception": false,
     "start_time": "2022-09-19T05:12:11.153194",
     "status": "completed"
    },
    "tags": []
   },
   "source": [
    "#### **Task 7: Check summary statistics of all columns, including object dataypes**"
   ]
  },
  {
   "cell_type": "code",
   "execution_count": 8,
   "id": "3b44f58b",
   "metadata": {
    "execution": {
     "iopub.execute_input": "2022-09-19T05:12:11.231719Z",
     "iopub.status.busy": "2022-09-19T05:12:11.231182Z",
     "iopub.status.idle": "2022-09-19T05:12:11.472474Z",
     "shell.execute_reply": "2022-09-19T05:12:11.470974Z"
    },
    "papermill": {
     "duration": 0.271309,
     "end_time": "2022-09-19T05:12:11.475154",
     "exception": false,
     "start_time": "2022-09-19T05:12:11.203845",
     "status": "completed"
    },
    "tags": []
   },
   "outputs": [
    {
     "data": {
      "text/html": [
       "<div>\n",
       "<style scoped>\n",
       "    .dataframe tbody tr th:only-of-type {\n",
       "        vertical-align: middle;\n",
       "    }\n",
       "\n",
       "    .dataframe tbody tr th {\n",
       "        vertical-align: top;\n",
       "    }\n",
       "\n",
       "    .dataframe thead th {\n",
       "        text-align: right;\n",
       "    }\n",
       "</style>\n",
       "<table border=\"1\" class=\"dataframe\">\n",
       "  <thead>\n",
       "    <tr style=\"text-align: right;\">\n",
       "      <th></th>\n",
       "      <th>insert_date</th>\n",
       "      <th>origin</th>\n",
       "      <th>destination</th>\n",
       "      <th>start_date</th>\n",
       "      <th>end_date</th>\n",
       "      <th>train_type</th>\n",
       "      <th>price</th>\n",
       "      <th>train_class</th>\n",
       "      <th>fare</th>\n",
       "    </tr>\n",
       "  </thead>\n",
       "  <tbody>\n",
       "    <tr>\n",
       "      <th>count</th>\n",
       "      <td>215909</td>\n",
       "      <td>215909</td>\n",
       "      <td>215909</td>\n",
       "      <td>215909</td>\n",
       "      <td>215909</td>\n",
       "      <td>215909</td>\n",
       "      <td>202321.000000</td>\n",
       "      <td>215266</td>\n",
       "      <td>215266</td>\n",
       "    </tr>\n",
       "    <tr>\n",
       "      <th>unique</th>\n",
       "      <td>30543</td>\n",
       "      <td>5</td>\n",
       "      <td>5</td>\n",
       "      <td>2231</td>\n",
       "      <td>2870</td>\n",
       "      <td>16</td>\n",
       "      <td>NaN</td>\n",
       "      <td>5</td>\n",
       "      <td>5</td>\n",
       "    </tr>\n",
       "    <tr>\n",
       "      <th>top</th>\n",
       "      <td>2019-05-09 15:02:02</td>\n",
       "      <td>MADRID</td>\n",
       "      <td>MADRID</td>\n",
       "      <td>2019-06-02 17:30:00</td>\n",
       "      <td>2019-06-02 23:03:00</td>\n",
       "      <td>AVE</td>\n",
       "      <td>NaN</td>\n",
       "      <td>Turista</td>\n",
       "      <td>Promo</td>\n",
       "    </tr>\n",
       "    <tr>\n",
       "      <th>freq</th>\n",
       "      <td>90</td>\n",
       "      <td>110440</td>\n",
       "      <td>105469</td>\n",
       "      <td>2089</td>\n",
       "      <td>1278</td>\n",
       "      <td>126577</td>\n",
       "      <td>NaN</td>\n",
       "      <td>164016</td>\n",
       "      <td>132065</td>\n",
       "    </tr>\n",
       "    <tr>\n",
       "      <th>mean</th>\n",
       "      <td>NaN</td>\n",
       "      <td>NaN</td>\n",
       "      <td>NaN</td>\n",
       "      <td>NaN</td>\n",
       "      <td>NaN</td>\n",
       "      <td>NaN</td>\n",
       "      <td>56.723877</td>\n",
       "      <td>NaN</td>\n",
       "      <td>NaN</td>\n",
       "    </tr>\n",
       "    <tr>\n",
       "      <th>std</th>\n",
       "      <td>NaN</td>\n",
       "      <td>NaN</td>\n",
       "      <td>NaN</td>\n",
       "      <td>NaN</td>\n",
       "      <td>NaN</td>\n",
       "      <td>NaN</td>\n",
       "      <td>25.531787</td>\n",
       "      <td>NaN</td>\n",
       "      <td>NaN</td>\n",
       "    </tr>\n",
       "    <tr>\n",
       "      <th>min</th>\n",
       "      <td>NaN</td>\n",
       "      <td>NaN</td>\n",
       "      <td>NaN</td>\n",
       "      <td>NaN</td>\n",
       "      <td>NaN</td>\n",
       "      <td>NaN</td>\n",
       "      <td>16.600000</td>\n",
       "      <td>NaN</td>\n",
       "      <td>NaN</td>\n",
       "    </tr>\n",
       "    <tr>\n",
       "      <th>25%</th>\n",
       "      <td>NaN</td>\n",
       "      <td>NaN</td>\n",
       "      <td>NaN</td>\n",
       "      <td>NaN</td>\n",
       "      <td>NaN</td>\n",
       "      <td>NaN</td>\n",
       "      <td>28.350000</td>\n",
       "      <td>NaN</td>\n",
       "      <td>NaN</td>\n",
       "    </tr>\n",
       "    <tr>\n",
       "      <th>50%</th>\n",
       "      <td>NaN</td>\n",
       "      <td>NaN</td>\n",
       "      <td>NaN</td>\n",
       "      <td>NaN</td>\n",
       "      <td>NaN</td>\n",
       "      <td>NaN</td>\n",
       "      <td>53.400000</td>\n",
       "      <td>NaN</td>\n",
       "      <td>NaN</td>\n",
       "    </tr>\n",
       "    <tr>\n",
       "      <th>75%</th>\n",
       "      <td>NaN</td>\n",
       "      <td>NaN</td>\n",
       "      <td>NaN</td>\n",
       "      <td>NaN</td>\n",
       "      <td>NaN</td>\n",
       "      <td>NaN</td>\n",
       "      <td>76.300000</td>\n",
       "      <td>NaN</td>\n",
       "      <td>NaN</td>\n",
       "    </tr>\n",
       "    <tr>\n",
       "      <th>max</th>\n",
       "      <td>NaN</td>\n",
       "      <td>NaN</td>\n",
       "      <td>NaN</td>\n",
       "      <td>NaN</td>\n",
       "      <td>NaN</td>\n",
       "      <td>NaN</td>\n",
       "      <td>206.800000</td>\n",
       "      <td>NaN</td>\n",
       "      <td>NaN</td>\n",
       "    </tr>\n",
       "  </tbody>\n",
       "</table>\n",
       "</div>"
      ],
      "text/plain": [
       "                insert_date  origin destination           start_date  \\\n",
       "count                215909  215909      215909               215909   \n",
       "unique                30543       5           5                 2231   \n",
       "top     2019-05-09 15:02:02  MADRID      MADRID  2019-06-02 17:30:00   \n",
       "freq                     90  110440      105469                 2089   \n",
       "mean                    NaN     NaN         NaN                  NaN   \n",
       "std                     NaN     NaN         NaN                  NaN   \n",
       "min                     NaN     NaN         NaN                  NaN   \n",
       "25%                     NaN     NaN         NaN                  NaN   \n",
       "50%                     NaN     NaN         NaN                  NaN   \n",
       "75%                     NaN     NaN         NaN                  NaN   \n",
       "max                     NaN     NaN         NaN                  NaN   \n",
       "\n",
       "                   end_date train_type          price train_class    fare  \n",
       "count                215909     215909  202321.000000      215266  215266  \n",
       "unique                 2870         16            NaN           5       5  \n",
       "top     2019-06-02 23:03:00        AVE            NaN     Turista   Promo  \n",
       "freq                   1278     126577            NaN      164016  132065  \n",
       "mean                    NaN        NaN      56.723877         NaN     NaN  \n",
       "std                     NaN        NaN      25.531787         NaN     NaN  \n",
       "min                     NaN        NaN      16.600000         NaN     NaN  \n",
       "25%                     NaN        NaN      28.350000         NaN     NaN  \n",
       "50%                     NaN        NaN      53.400000         NaN     NaN  \n",
       "75%                     NaN        NaN      76.300000         NaN     NaN  \n",
       "max                     NaN        NaN     206.800000         NaN     NaN  "
      ]
     },
     "execution_count": 8,
     "metadata": {},
     "output_type": "execute_result"
    }
   ],
   "source": [
    "df.describe(include = 'all')"
   ]
  },
  {
   "cell_type": "markdown",
   "id": "e11b7818",
   "metadata": {
    "papermill": {
     "duration": 0.025114,
     "end_time": "2022-09-19T05:12:11.526428",
     "exception": false,
     "start_time": "2022-09-19T05:12:11.501314",
     "status": "completed"
    },
    "tags": []
   },
   "source": [
    "**Question: Explain the summary statistics for the above data set**"
   ]
  },
  {
   "cell_type": "markdown",
   "id": "b3804d84",
   "metadata": {
    "papermill": {
     "duration": 0.025163,
     "end_time": "2022-09-19T05:12:11.577212",
     "exception": false,
     "start_time": "2022-09-19T05:12:11.552049",
     "status": "completed"
    },
    "tags": []
   },
   "source": [
    "**Answer:**"
   ]
  },
  {
   "cell_type": "markdown",
   "id": "e19f8990",
   "metadata": {
    "papermill": {
     "duration": 0.025141,
     "end_time": "2022-09-19T05:12:11.627833",
     "exception": false,
     "start_time": "2022-09-19T05:12:11.602692",
     "status": "completed"
    },
    "tags": []
   },
   "source": [
    "#### **Task 8: Check null values in dataset**"
   ]
  },
  {
   "cell_type": "code",
   "execution_count": 9,
   "id": "eec8a06f",
   "metadata": {
    "execution": {
     "iopub.execute_input": "2022-09-19T05:12:11.680570Z",
     "iopub.status.busy": "2022-09-19T05:12:11.680108Z",
     "iopub.status.idle": "2022-09-19T05:12:11.762588Z",
     "shell.execute_reply": "2022-09-19T05:12:11.761367Z"
    },
    "papermill": {
     "duration": 0.11175,
     "end_time": "2022-09-19T05:12:11.765007",
     "exception": false,
     "start_time": "2022-09-19T05:12:11.653257",
     "status": "completed"
    },
    "tags": []
   },
   "outputs": [
    {
     "data": {
      "text/plain": [
       "insert_date        0\n",
       "origin             0\n",
       "destination        0\n",
       "start_date         0\n",
       "end_date           0\n",
       "train_type         0\n",
       "price          13588\n",
       "train_class      643\n",
       "fare             643\n",
       "dtype: int64"
      ]
     },
     "execution_count": 9,
     "metadata": {},
     "output_type": "execute_result"
    }
   ],
   "source": [
    "#write code here\n",
    "df.isnull().sum()"
   ]
  },
  {
   "cell_type": "markdown",
   "id": "c4aa0854",
   "metadata": {
    "papermill": {
     "duration": 0.02682,
     "end_time": "2022-09-19T05:12:11.818367",
     "exception": false,
     "start_time": "2022-09-19T05:12:11.791547",
     "status": "completed"
    },
    "tags": []
   },
   "source": [
    "#### **Task 9: Fill the Null values in the 'price' column.**<br>\n",
    "*Hint: Take mean*"
   ]
  },
  {
   "cell_type": "code",
   "execution_count": 10,
   "id": "81552cee",
   "metadata": {
    "execution": {
     "iopub.execute_input": "2022-09-19T05:12:11.875081Z",
     "iopub.status.busy": "2022-09-19T05:12:11.873815Z",
     "iopub.status.idle": "2022-09-19T05:12:11.881075Z",
     "shell.execute_reply": "2022-09-19T05:12:11.880127Z"
    },
    "papermill": {
     "duration": 0.037923,
     "end_time": "2022-09-19T05:12:11.883219",
     "exception": false,
     "start_time": "2022-09-19T05:12:11.845296",
     "status": "completed"
    },
    "tags": []
   },
   "outputs": [
    {
     "data": {
      "text/plain": [
       "Index(['insert_date', 'origin', 'destination', 'start_date', 'end_date',\n",
       "       'train_type', 'price', 'train_class', 'fare'],\n",
       "      dtype='object')"
      ]
     },
     "execution_count": 10,
     "metadata": {},
     "output_type": "execute_result"
    }
   ],
   "source": [
    "df.columns"
   ]
  },
  {
   "cell_type": "code",
   "execution_count": 11,
   "id": "82788d01",
   "metadata": {
    "execution": {
     "iopub.execute_input": "2022-09-19T05:12:11.937300Z",
     "iopub.status.busy": "2022-09-19T05:12:11.936863Z",
     "iopub.status.idle": "2022-09-19T05:12:11.946734Z",
     "shell.execute_reply": "2022-09-19T05:12:11.945469Z"
    },
    "papermill": {
     "duration": 0.040284,
     "end_time": "2022-09-19T05:12:11.949540",
     "exception": false,
     "start_time": "2022-09-19T05:12:11.909256",
     "status": "completed"
    },
    "tags": []
   },
   "outputs": [
    {
     "data": {
      "text/plain": [
       "56.723877205035556"
      ]
     },
     "execution_count": 11,
     "metadata": {},
     "output_type": "execute_result"
    }
   ],
   "source": [
    "df['price'].mean()"
   ]
  },
  {
   "cell_type": "code",
   "execution_count": 12,
   "id": "d1a3dbbc",
   "metadata": {
    "execution": {
     "iopub.execute_input": "2022-09-19T05:12:12.007908Z",
     "iopub.status.busy": "2022-09-19T05:12:12.006578Z",
     "iopub.status.idle": "2022-09-19T05:12:12.016370Z",
     "shell.execute_reply": "2022-09-19T05:12:12.015462Z"
    },
    "papermill": {
     "duration": 0.042293,
     "end_time": "2022-09-19T05:12:12.018919",
     "exception": false,
     "start_time": "2022-09-19T05:12:11.976626",
     "status": "completed"
    },
    "tags": []
   },
   "outputs": [],
   "source": [
    "#write code here\n",
    "df.loc[df['price'].isnull(),'price'] = df['price'].mean()"
   ]
  },
  {
   "cell_type": "code",
   "execution_count": 13,
   "id": "daa27964",
   "metadata": {
    "execution": {
     "iopub.execute_input": "2022-09-19T05:12:12.074348Z",
     "iopub.status.busy": "2022-09-19T05:12:12.073906Z",
     "iopub.status.idle": "2022-09-19T05:12:12.082680Z",
     "shell.execute_reply": "2022-09-19T05:12:12.081447Z"
    },
    "papermill": {
     "duration": 0.040009,
     "end_time": "2022-09-19T05:12:12.085292",
     "exception": false,
     "start_time": "2022-09-19T05:12:12.045283",
     "status": "completed"
    },
    "tags": []
   },
   "outputs": [
    {
     "data": {
      "text/plain": [
       "0"
      ]
     },
     "execution_count": 13,
     "metadata": {},
     "output_type": "execute_result"
    }
   ],
   "source": [
    "df.price.isnull().sum()"
   ]
  },
  {
   "cell_type": "markdown",
   "id": "e129bdc0",
   "metadata": {
    "papermill": {
     "duration": 0.026141,
     "end_time": "2022-09-19T05:12:12.139752",
     "exception": false,
     "start_time": "2022-09-19T05:12:12.113611",
     "status": "completed"
    },
    "tags": []
   },
   "source": [
    "#### **Task 10: Drop the rows containing Null values in the attributes train_class and fare**"
   ]
  },
  {
   "cell_type": "code",
   "execution_count": 14,
   "id": "2391ecb5",
   "metadata": {
    "execution": {
     "iopub.execute_input": "2022-09-19T05:12:12.196452Z",
     "iopub.status.busy": "2022-09-19T05:12:12.195229Z",
     "iopub.status.idle": "2022-09-19T05:12:12.234096Z",
     "shell.execute_reply": "2022-09-19T05:12:12.232873Z"
    },
    "papermill": {
     "duration": 0.0698,
     "end_time": "2022-09-19T05:12:12.236704",
     "exception": false,
     "start_time": "2022-09-19T05:12:12.166904",
     "status": "completed"
    },
    "tags": []
   },
   "outputs": [
    {
     "data": {
      "text/html": [
       "<div>\n",
       "<style scoped>\n",
       "    .dataframe tbody tr th:only-of-type {\n",
       "        vertical-align: middle;\n",
       "    }\n",
       "\n",
       "    .dataframe tbody tr th {\n",
       "        vertical-align: top;\n",
       "    }\n",
       "\n",
       "    .dataframe thead th {\n",
       "        text-align: right;\n",
       "    }\n",
       "</style>\n",
       "<table border=\"1\" class=\"dataframe\">\n",
       "  <thead>\n",
       "    <tr style=\"text-align: right;\">\n",
       "      <th></th>\n",
       "      <th>train_class</th>\n",
       "      <th>fare</th>\n",
       "    </tr>\n",
       "  </thead>\n",
       "  <tbody>\n",
       "    <tr>\n",
       "      <th>6606</th>\n",
       "      <td>NaN</td>\n",
       "      <td>NaN</td>\n",
       "    </tr>\n",
       "    <tr>\n",
       "      <th>6826</th>\n",
       "      <td>NaN</td>\n",
       "      <td>NaN</td>\n",
       "    </tr>\n",
       "    <tr>\n",
       "      <th>7244</th>\n",
       "      <td>NaN</td>\n",
       "      <td>NaN</td>\n",
       "    </tr>\n",
       "    <tr>\n",
       "      <th>7524</th>\n",
       "      <td>NaN</td>\n",
       "      <td>NaN</td>\n",
       "    </tr>\n",
       "    <tr>\n",
       "      <th>7591</th>\n",
       "      <td>NaN</td>\n",
       "      <td>NaN</td>\n",
       "    </tr>\n",
       "    <tr>\n",
       "      <th>...</th>\n",
       "      <td>...</td>\n",
       "      <td>...</td>\n",
       "    </tr>\n",
       "    <tr>\n",
       "      <th>206034</th>\n",
       "      <td>NaN</td>\n",
       "      <td>NaN</td>\n",
       "    </tr>\n",
       "    <tr>\n",
       "      <th>206353</th>\n",
       "      <td>NaN</td>\n",
       "      <td>NaN</td>\n",
       "    </tr>\n",
       "    <tr>\n",
       "      <th>206554</th>\n",
       "      <td>NaN</td>\n",
       "      <td>NaN</td>\n",
       "    </tr>\n",
       "    <tr>\n",
       "      <th>206895</th>\n",
       "      <td>NaN</td>\n",
       "      <td>NaN</td>\n",
       "    </tr>\n",
       "    <tr>\n",
       "      <th>207073</th>\n",
       "      <td>NaN</td>\n",
       "      <td>NaN</td>\n",
       "    </tr>\n",
       "  </tbody>\n",
       "</table>\n",
       "<p>643 rows × 2 columns</p>\n",
       "</div>"
      ],
      "text/plain": [
       "       train_class fare\n",
       "6606           NaN  NaN\n",
       "6826           NaN  NaN\n",
       "7244           NaN  NaN\n",
       "7524           NaN  NaN\n",
       "7591           NaN  NaN\n",
       "...            ...  ...\n",
       "206034         NaN  NaN\n",
       "206353         NaN  NaN\n",
       "206554         NaN  NaN\n",
       "206895         NaN  NaN\n",
       "207073         NaN  NaN\n",
       "\n",
       "[643 rows x 2 columns]"
      ]
     },
     "execution_count": 14,
     "metadata": {},
     "output_type": "execute_result"
    }
   ],
   "source": [
    "df.loc[(df['train_class'].isnull()) & (df['fare'].isnull()),'train_class':'fare']"
   ]
  },
  {
   "cell_type": "code",
   "execution_count": 15,
   "id": "185b66e4",
   "metadata": {
    "execution": {
     "iopub.execute_input": "2022-09-19T05:12:12.293418Z",
     "iopub.status.busy": "2022-09-19T05:12:12.292673Z",
     "iopub.status.idle": "2022-09-19T05:12:12.357984Z",
     "shell.execute_reply": "2022-09-19T05:12:12.357055Z"
    },
    "papermill": {
     "duration": 0.096268,
     "end_time": "2022-09-19T05:12:12.360789",
     "exception": false,
     "start_time": "2022-09-19T05:12:12.264521",
     "status": "completed"
    },
    "tags": []
   },
   "outputs": [],
   "source": [
    "df.drop(df.loc[(df['train_class'].isnull()) & (df['fare'].isnull()),'train_class':'fare'].index,axis=0,inplace=True)"
   ]
  },
  {
   "cell_type": "code",
   "execution_count": 16,
   "id": "8faa196f",
   "metadata": {
    "execution": {
     "iopub.execute_input": "2022-09-19T05:12:12.417158Z",
     "iopub.status.busy": "2022-09-19T05:12:12.416289Z",
     "iopub.status.idle": "2022-09-19T05:12:12.447566Z",
     "shell.execute_reply": "2022-09-19T05:12:12.446419Z"
    },
    "papermill": {
     "duration": 0.062216,
     "end_time": "2022-09-19T05:12:12.450312",
     "exception": false,
     "start_time": "2022-09-19T05:12:12.388096",
     "status": "completed"
    },
    "tags": []
   },
   "outputs": [
    {
     "data": {
      "text/html": [
       "<div>\n",
       "<style scoped>\n",
       "    .dataframe tbody tr th:only-of-type {\n",
       "        vertical-align: middle;\n",
       "    }\n",
       "\n",
       "    .dataframe tbody tr th {\n",
       "        vertical-align: top;\n",
       "    }\n",
       "\n",
       "    .dataframe thead th {\n",
       "        text-align: right;\n",
       "    }\n",
       "</style>\n",
       "<table border=\"1\" class=\"dataframe\">\n",
       "  <thead>\n",
       "    <tr style=\"text-align: right;\">\n",
       "      <th></th>\n",
       "      <th>train_class</th>\n",
       "      <th>fare</th>\n",
       "    </tr>\n",
       "  </thead>\n",
       "  <tbody>\n",
       "  </tbody>\n",
       "</table>\n",
       "</div>"
      ],
      "text/plain": [
       "Empty DataFrame\n",
       "Columns: [train_class, fare]\n",
       "Index: []"
      ]
     },
     "execution_count": 16,
     "metadata": {},
     "output_type": "execute_result"
    }
   ],
   "source": [
    "df.loc[(df['train_class'].isnull()) & (df['fare'].isnull()),'train_class':'fare']"
   ]
  },
  {
   "cell_type": "markdown",
   "id": "f46964cb",
   "metadata": {
    "papermill": {
     "duration": 0.026644,
     "end_time": "2022-09-19T05:12:12.505022",
     "exception": false,
     "start_time": "2022-09-19T05:12:12.478378",
     "status": "completed"
    },
    "tags": []
   },
   "source": [
    "#### **Task 11: Drop 'insert_date'**"
   ]
  },
  {
   "cell_type": "code",
   "execution_count": 17,
   "id": "00d66051",
   "metadata": {
    "execution": {
     "iopub.execute_input": "2022-09-19T05:12:12.561140Z",
     "iopub.status.busy": "2022-09-19T05:12:12.560727Z",
     "iopub.status.idle": "2022-09-19T05:12:12.591811Z",
     "shell.execute_reply": "2022-09-19T05:12:12.590291Z"
    },
    "papermill": {
     "duration": 0.062943,
     "end_time": "2022-09-19T05:12:12.594929",
     "exception": false,
     "start_time": "2022-09-19T05:12:12.531986",
     "status": "completed"
    },
    "tags": []
   },
   "outputs": [],
   "source": [
    "#write code here\n",
    "df.drop(['insert_date'],axis=1,inplace=True)"
   ]
  },
  {
   "cell_type": "code",
   "execution_count": 18,
   "id": "ea7da983",
   "metadata": {
    "execution": {
     "iopub.execute_input": "2022-09-19T05:12:12.650653Z",
     "iopub.status.busy": "2022-09-19T05:12:12.650245Z",
     "iopub.status.idle": "2022-09-19T05:12:12.669499Z",
     "shell.execute_reply": "2022-09-19T05:12:12.668314Z"
    },
    "papermill": {
     "duration": 0.04992,
     "end_time": "2022-09-19T05:12:12.671887",
     "exception": false,
     "start_time": "2022-09-19T05:12:12.621967",
     "status": "completed"
    },
    "tags": []
   },
   "outputs": [
    {
     "data": {
      "text/html": [
       "<div>\n",
       "<style scoped>\n",
       "    .dataframe tbody tr th:only-of-type {\n",
       "        vertical-align: middle;\n",
       "    }\n",
       "\n",
       "    .dataframe tbody tr th {\n",
       "        vertical-align: top;\n",
       "    }\n",
       "\n",
       "    .dataframe thead th {\n",
       "        text-align: right;\n",
       "    }\n",
       "</style>\n",
       "<table border=\"1\" class=\"dataframe\">\n",
       "  <thead>\n",
       "    <tr style=\"text-align: right;\">\n",
       "      <th></th>\n",
       "      <th>origin</th>\n",
       "      <th>destination</th>\n",
       "      <th>start_date</th>\n",
       "      <th>end_date</th>\n",
       "      <th>train_type</th>\n",
       "      <th>price</th>\n",
       "      <th>train_class</th>\n",
       "      <th>fare</th>\n",
       "    </tr>\n",
       "  </thead>\n",
       "  <tbody>\n",
       "    <tr>\n",
       "      <th>0</th>\n",
       "      <td>PONFERRADA</td>\n",
       "      <td>MADRID</td>\n",
       "      <td>2019-06-02 15:00:00</td>\n",
       "      <td>2019-06-02 19:42:00</td>\n",
       "      <td>MD-AVE</td>\n",
       "      <td>59.50</td>\n",
       "      <td>Turista con enlace</td>\n",
       "      <td>Flexible</td>\n",
       "    </tr>\n",
       "    <tr>\n",
       "      <th>1</th>\n",
       "      <td>PONFERRADA</td>\n",
       "      <td>MADRID</td>\n",
       "      <td>2019-06-02 17:15:00</td>\n",
       "      <td>2019-06-02 23:03:00</td>\n",
       "      <td>MD-AVE</td>\n",
       "      <td>34.65</td>\n",
       "      <td>Turista con enlace</td>\n",
       "      <td>Promo +</td>\n",
       "    </tr>\n",
       "    <tr>\n",
       "      <th>2</th>\n",
       "      <td>PONFERRADA</td>\n",
       "      <td>MADRID</td>\n",
       "      <td>2019-06-02 17:15:00</td>\n",
       "      <td>2019-06-02 23:10:00</td>\n",
       "      <td>MD-LD</td>\n",
       "      <td>39.95</td>\n",
       "      <td>Turista con enlace</td>\n",
       "      <td>Promo +</td>\n",
       "    </tr>\n",
       "    <tr>\n",
       "      <th>3</th>\n",
       "      <td>PONFERRADA</td>\n",
       "      <td>MADRID</td>\n",
       "      <td>2019-06-02 17:15:00</td>\n",
       "      <td>2019-06-02 22:14:00</td>\n",
       "      <td>MD-AVE</td>\n",
       "      <td>40.60</td>\n",
       "      <td>Turista con enlace</td>\n",
       "      <td>Promo +</td>\n",
       "    </tr>\n",
       "    <tr>\n",
       "      <th>4</th>\n",
       "      <td>PONFERRADA</td>\n",
       "      <td>MADRID</td>\n",
       "      <td>2019-06-02 18:55:00</td>\n",
       "      <td>2019-06-02 23:03:00</td>\n",
       "      <td>ALVIA</td>\n",
       "      <td>27.90</td>\n",
       "      <td>Turista</td>\n",
       "      <td>Promo</td>\n",
       "    </tr>\n",
       "    <tr>\n",
       "      <th>...</th>\n",
       "      <td>...</td>\n",
       "      <td>...</td>\n",
       "      <td>...</td>\n",
       "      <td>...</td>\n",
       "      <td>...</td>\n",
       "      <td>...</td>\n",
       "      <td>...</td>\n",
       "      <td>...</td>\n",
       "    </tr>\n",
       "    <tr>\n",
       "      <th>215904</th>\n",
       "      <td>MADRID</td>\n",
       "      <td>SEVILLA</td>\n",
       "      <td>2019-06-01 17:00:00</td>\n",
       "      <td>2019-06-01 19:38:00</td>\n",
       "      <td>AVE</td>\n",
       "      <td>47.30</td>\n",
       "      <td>Turista</td>\n",
       "      <td>Promo</td>\n",
       "    </tr>\n",
       "    <tr>\n",
       "      <th>215905</th>\n",
       "      <td>MADRID</td>\n",
       "      <td>SEVILLA</td>\n",
       "      <td>2019-06-01 18:00:00</td>\n",
       "      <td>2019-06-01 20:32:00</td>\n",
       "      <td>AVE</td>\n",
       "      <td>47.30</td>\n",
       "      <td>Turista</td>\n",
       "      <td>Promo</td>\n",
       "    </tr>\n",
       "    <tr>\n",
       "      <th>215906</th>\n",
       "      <td>MADRID</td>\n",
       "      <td>SEVILLA</td>\n",
       "      <td>2019-06-01 19:00:00</td>\n",
       "      <td>2019-06-01 21:38:00</td>\n",
       "      <td>AVE</td>\n",
       "      <td>47.30</td>\n",
       "      <td>Turista</td>\n",
       "      <td>Promo</td>\n",
       "    </tr>\n",
       "    <tr>\n",
       "      <th>215907</th>\n",
       "      <td>MADRID</td>\n",
       "      <td>SEVILLA</td>\n",
       "      <td>2019-06-01 20:35:00</td>\n",
       "      <td>2019-06-01 23:15:00</td>\n",
       "      <td>AVE</td>\n",
       "      <td>47.30</td>\n",
       "      <td>Turista</td>\n",
       "      <td>Promo</td>\n",
       "    </tr>\n",
       "    <tr>\n",
       "      <th>215908</th>\n",
       "      <td>MADRID</td>\n",
       "      <td>SEVILLA</td>\n",
       "      <td>2019-06-01 21:25:00</td>\n",
       "      <td>2019-06-02 00:10:00</td>\n",
       "      <td>AV City</td>\n",
       "      <td>52.20</td>\n",
       "      <td>Turista Plus</td>\n",
       "      <td>Promo</td>\n",
       "    </tr>\n",
       "  </tbody>\n",
       "</table>\n",
       "<p>215266 rows × 8 columns</p>\n",
       "</div>"
      ],
      "text/plain": [
       "            origin destination           start_date             end_date  \\\n",
       "0       PONFERRADA      MADRID  2019-06-02 15:00:00  2019-06-02 19:42:00   \n",
       "1       PONFERRADA      MADRID  2019-06-02 17:15:00  2019-06-02 23:03:00   \n",
       "2       PONFERRADA      MADRID  2019-06-02 17:15:00  2019-06-02 23:10:00   \n",
       "3       PONFERRADA      MADRID  2019-06-02 17:15:00  2019-06-02 22:14:00   \n",
       "4       PONFERRADA      MADRID  2019-06-02 18:55:00  2019-06-02 23:03:00   \n",
       "...            ...         ...                  ...                  ...   \n",
       "215904      MADRID     SEVILLA  2019-06-01 17:00:00  2019-06-01 19:38:00   \n",
       "215905      MADRID     SEVILLA  2019-06-01 18:00:00  2019-06-01 20:32:00   \n",
       "215906      MADRID     SEVILLA  2019-06-01 19:00:00  2019-06-01 21:38:00   \n",
       "215907      MADRID     SEVILLA  2019-06-01 20:35:00  2019-06-01 23:15:00   \n",
       "215908      MADRID     SEVILLA  2019-06-01 21:25:00  2019-06-02 00:10:00   \n",
       "\n",
       "       train_type  price         train_class      fare  \n",
       "0          MD-AVE  59.50  Turista con enlace  Flexible  \n",
       "1          MD-AVE  34.65  Turista con enlace   Promo +  \n",
       "2           MD-LD  39.95  Turista con enlace   Promo +  \n",
       "3          MD-AVE  40.60  Turista con enlace   Promo +  \n",
       "4           ALVIA  27.90             Turista     Promo  \n",
       "...           ...    ...                 ...       ...  \n",
       "215904        AVE  47.30             Turista     Promo  \n",
       "215905        AVE  47.30             Turista     Promo  \n",
       "215906        AVE  47.30             Turista     Promo  \n",
       "215907        AVE  47.30             Turista     Promo  \n",
       "215908    AV City  52.20        Turista Plus     Promo  \n",
       "\n",
       "[215266 rows x 8 columns]"
      ]
     },
     "execution_count": 18,
     "metadata": {},
     "output_type": "execute_result"
    }
   ],
   "source": [
    "df"
   ]
  },
  {
   "cell_type": "markdown",
   "id": "545437a7",
   "metadata": {
    "papermill": {
     "duration": 0.027235,
     "end_time": "2022-09-19T05:12:12.726440",
     "exception": false,
     "start_time": "2022-09-19T05:12:12.699205",
     "status": "completed"
    },
    "tags": []
   },
   "source": [
    "**Check null values again in dataset**"
   ]
  },
  {
   "cell_type": "code",
   "execution_count": 19,
   "id": "3a4e1d19",
   "metadata": {
    "execution": {
     "iopub.execute_input": "2022-09-19T05:12:12.783329Z",
     "iopub.status.busy": "2022-09-19T05:12:12.782528Z",
     "iopub.status.idle": "2022-09-19T05:12:12.856569Z",
     "shell.execute_reply": "2022-09-19T05:12:12.855362Z"
    },
    "papermill": {
     "duration": 0.105307,
     "end_time": "2022-09-19T05:12:12.859174",
     "exception": false,
     "start_time": "2022-09-19T05:12:12.753867",
     "status": "completed"
    },
    "scrolled": true,
    "tags": []
   },
   "outputs": [
    {
     "data": {
      "text/plain": [
       "origin         0\n",
       "destination    0\n",
       "start_date     0\n",
       "end_date       0\n",
       "train_type     0\n",
       "price          0\n",
       "train_class    0\n",
       "fare           0\n",
       "dtype: int64"
      ]
     },
     "execution_count": 19,
     "metadata": {},
     "output_type": "execute_result"
    }
   ],
   "source": [
    "df.isnull().sum()"
   ]
  },
  {
   "cell_type": "markdown",
   "id": "96b1cd1f",
   "metadata": {
    "papermill": {
     "duration": 0.027134,
     "end_time": "2022-09-19T05:12:12.914346",
     "exception": false,
     "start_time": "2022-09-19T05:12:12.887212",
     "status": "completed"
    },
    "tags": []
   },
   "source": [
    "#### **Task 12: Plot number of people boarding from different stations**\n"
   ]
  },
  {
   "cell_type": "code",
   "execution_count": 20,
   "id": "d4af9039",
   "metadata": {
    "execution": {
     "iopub.execute_input": "2022-09-19T05:12:12.971578Z",
     "iopub.status.busy": "2022-09-19T05:12:12.970758Z",
     "iopub.status.idle": "2022-09-19T05:12:13.407845Z",
     "shell.execute_reply": "2022-09-19T05:12:13.406646Z"
    },
    "papermill": {
     "duration": 0.468452,
     "end_time": "2022-09-19T05:12:13.410325",
     "exception": false,
     "start_time": "2022-09-19T05:12:12.941873",
     "status": "completed"
    },
    "tags": []
   },
   "outputs": [
    {
     "data": {
      "image/png": "[encoded data removed]",
      "text/plain": [
       "<Figure size 1080x432 with 1 Axes>"
      ]
     },
     "metadata": {},
     "output_type": "display_data"
    }
   ],
   "source": [
    "#write code here\n",
    "plt.figure(figsize=(15,6));\n",
    "sns.countplot(x='origin', data=df);"
   ]
  },
  {
   "cell_type": "markdown",
   "id": "bdea79a7",
   "metadata": {
    "papermill": {
     "duration": 0.0274,
     "end_time": "2022-09-19T05:12:13.466007",
     "exception": false,
     "start_time": "2022-09-19T05:12:13.438607",
     "status": "completed"
    },
    "tags": []
   },
   "source": [
    "**Question: What insights do you get from the above plot?**"
   ]
  },
  {
   "cell_type": "markdown",
   "id": "f76120c5",
   "metadata": {
    "papermill": {
     "duration": 0.027187,
     "end_time": "2022-09-19T05:12:13.520804",
     "exception": false,
     "start_time": "2022-09-19T05:12:13.493617",
     "status": "completed"
    },
    "tags": []
   },
   "source": [
    "**Answer:**  : Maximum number of people picked up from Madrid"
   ]
  },
  {
   "cell_type": "markdown",
   "id": "eb6d94d0",
   "metadata": {
    "papermill": {
     "duration": 0.027808,
     "end_time": "2022-09-19T05:12:13.576494",
     "exception": false,
     "start_time": "2022-09-19T05:12:13.548686",
     "status": "completed"
    },
    "tags": []
   },
   "source": [
    "#### **Task 13: Plot number of people for the destination stations**\n"
   ]
  },
  {
   "cell_type": "code",
   "execution_count": 21,
   "id": "6e5eab62",
   "metadata": {
    "execution": {
     "iopub.execute_input": "2022-09-19T05:12:13.635543Z",
     "iopub.status.busy": "2022-09-19T05:12:13.634926Z",
     "iopub.status.idle": "2022-09-19T05:12:14.009659Z",
     "shell.execute_reply": "2022-09-19T05:12:14.008734Z"
    },
    "papermill": {
     "duration": 0.40727,
     "end_time": "2022-09-19T05:12:14.012277",
     "exception": false,
     "start_time": "2022-09-19T05:12:13.605007",
     "status": "completed"
    },
    "tags": []
   },
   "outputs": [
    {
     "data": {
      "image/png": "[encoded data removed]",
      "text/plain": [
       "<Figure size 1080x432 with 1 Axes>"
      ]
     },
     "metadata": {},
     "output_type": "display_data"
    }
   ],
   "source": [
    "#write code here\n",
    "plt.figure(figsize=(15,6));\n",
    "sns.countplot(x='destination', data=df);"
   ]
  },
  {
   "cell_type": "markdown",
   "id": "321e5c66",
   "metadata": {
    "papermill": {
     "duration": 0.028055,
     "end_time": "2022-09-19T05:12:14.070054",
     "exception": false,
     "start_time": "2022-09-19T05:12:14.041999",
     "status": "completed"
    },
    "tags": []
   },
   "source": [
    "**Question: What insights do you get from the above graph?**"
   ]
  },
  {
   "cell_type": "markdown",
   "id": "bef1c50b",
   "metadata": {
    "papermill": {
     "duration": 0.029215,
     "end_time": "2022-09-19T05:12:14.128863",
     "exception": false,
     "start_time": "2022-09-19T05:12:14.099648",
     "status": "completed"
    },
    "tags": []
   },
   "source": [
    "**Answer:**  From the above graphs we can visualize that also maximum number of people are coming to \"Madrid\" as the most of the people have their destination station as Madrid"
   ]
  },
  {
   "cell_type": "markdown",
   "id": "bf707ecf",
   "metadata": {
    "papermill": {
     "duration": 0.028048,
     "end_time": "2022-09-19T05:12:14.186644",
     "exception": false,
     "start_time": "2022-09-19T05:12:14.158596",
     "status": "completed"
    },
    "tags": []
   },
   "source": [
    "#### **Task 14: Plot different types of train that runs in Spain**\n"
   ]
  },
  {
   "cell_type": "code",
   "execution_count": 22,
   "id": "bf4ebe5a",
   "metadata": {
    "execution": {
     "iopub.execute_input": "2022-09-19T05:12:14.245136Z",
     "iopub.status.busy": "2022-09-19T05:12:14.244244Z",
     "iopub.status.idle": "2022-09-19T05:12:14.751152Z",
     "shell.execute_reply": "2022-09-19T05:12:14.750196Z"
    },
    "papermill": {
     "duration": 0.538951,
     "end_time": "2022-09-19T05:12:14.753572",
     "exception": false,
     "start_time": "2022-09-19T05:12:14.214621",
     "status": "completed"
    },
    "tags": []
   },
   "outputs": [
    {
     "data": {
      "image/png": "[encoded data removed]",
      "text/plain": [
       "<Figure size 1080x576 with 1 Axes>"
      ]
     },
     "metadata": {},
     "output_type": "display_data"
    }
   ],
   "source": [
    "#write code here\n",
    "plt.figure(figsize=(15,8));\n",
    "sns.countplot(x='train_type',data=df);"
   ]
  },
  {
   "cell_type": "markdown",
   "id": "c84e8a4c",
   "metadata": {
    "papermill": {
     "duration": 0.028127,
     "end_time": "2022-09-19T05:12:14.810951",
     "exception": false,
     "start_time": "2022-09-19T05:12:14.782824",
     "status": "completed"
    },
    "tags": []
   },
   "source": [
    "**Question: Which train runs the maximum in number as compared to other train types?**"
   ]
  },
  {
   "cell_type": "markdown",
   "id": "e25e8182",
   "metadata": {
    "papermill": {
     "duration": 0.027981,
     "end_time": "2022-09-19T05:12:14.867490",
     "exception": false,
     "start_time": "2022-09-19T05:12:14.839509",
     "status": "completed"
    },
    "tags": []
   },
   "source": [
    "**Answer:**  We can see that \"AVE\" are runs maximum in number as compared to other train types\n"
   ]
  },
  {
   "cell_type": "markdown",
   "id": "65d2bc4b",
   "metadata": {
    "papermill": {
     "duration": 0.027916,
     "end_time": "2022-09-19T05:12:14.923967",
     "exception": false,
     "start_time": "2022-09-19T05:12:14.896051",
     "status": "completed"
    },
    "tags": []
   },
   "source": [
    "#### **Task 15: Plot number of trains of different class**\n"
   ]
  },
  {
   "cell_type": "code",
   "execution_count": 23,
   "id": "0e2d09cf",
   "metadata": {
    "execution": {
     "iopub.execute_input": "2022-09-19T05:12:14.982738Z",
     "iopub.status.busy": "2022-09-19T05:12:14.982262Z",
     "iopub.status.idle": "2022-09-19T05:12:15.389317Z",
     "shell.execute_reply": "2022-09-19T05:12:15.388319Z"
    },
    "papermill": {
     "duration": 0.440187,
     "end_time": "2022-09-19T05:12:15.392390",
     "exception": false,
     "start_time": "2022-09-19T05:12:14.952203",
     "status": "completed"
    },
    "tags": []
   },
   "outputs": [
    {
     "data": {
      "image/png": "[encoded data removed]",
      "text/plain": [
       "<Figure size 1080x576 with 1 Axes>"
      ]
     },
     "metadata": {},
     "output_type": "display_data"
    }
   ],
   "source": [
    "#write code here\n",
    "plt.figure(figsize=(15,8));\n",
    "sns.countplot(x='train_class',data=df);"
   ]
  },
  {
   "cell_type": "markdown",
   "id": "6eda351b",
   "metadata": {
    "papermill": {
     "duration": 0.029333,
     "end_time": "2022-09-19T05:12:15.453463",
     "exception": false,
     "start_time": "2022-09-19T05:12:15.424130",
     "status": "completed"
    },
    "tags": []
   },
   "source": [
    "**Question: Which the most common train class for traveling among people in general?**"
   ]
  },
  {
   "cell_type": "markdown",
   "id": "996d6e87",
   "metadata": {
    "papermill": {
     "duration": 0.028697,
     "end_time": "2022-09-19T05:12:15.511191",
     "exception": false,
     "start_time": "2022-09-19T05:12:15.482494",
     "status": "completed"
    },
    "tags": []
   },
   "source": [
    "**Answer:**  \"Turista\" is the train_class in which people travel in general\n"
   ]
  },
  {
   "cell_type": "markdown",
   "id": "95505dc5",
   "metadata": {
    "papermill": {
     "duration": 0.028669,
     "end_time": "2022-09-19T05:12:15.569176",
     "exception": false,
     "start_time": "2022-09-19T05:12:15.540507",
     "status": "completed"
    },
    "tags": []
   },
   "source": [
    "#### **Task 16: Plot number of tickets bought from each category**\n"
   ]
  },
  {
   "cell_type": "code",
   "execution_count": 24,
   "id": "956920af",
   "metadata": {
    "execution": {
     "iopub.execute_input": "2022-09-19T05:12:15.633923Z",
     "iopub.status.busy": "2022-09-19T05:12:15.632785Z",
     "iopub.status.idle": "2022-09-19T05:12:16.023727Z",
     "shell.execute_reply": "2022-09-19T05:12:16.022543Z"
    },
    "papermill": {
     "duration": 0.424852,
     "end_time": "2022-09-19T05:12:16.026522",
     "exception": false,
     "start_time": "2022-09-19T05:12:15.601670",
     "status": "completed"
    },
    "tags": []
   },
   "outputs": [
    {
     "data": {
      "image/png": "[encoded data removed]",
      "text/plain": [
       "<Figure size 1080x432 with 1 Axes>"
      ]
     },
     "metadata": {},
     "output_type": "display_data"
    }
   ],
   "source": [
    "#write code here\n",
    "plt.figure(figsize=(15,6));\n",
    "sns.countplot(x='fare',data=df);"
   ]
  },
  {
   "cell_type": "markdown",
   "id": "78e88cd7",
   "metadata": {
    "papermill": {
     "duration": 0.030006,
     "end_time": "2022-09-19T05:12:16.088340",
     "exception": false,
     "start_time": "2022-09-19T05:12:16.058334",
     "status": "completed"
    },
    "tags": []
   },
   "source": [
    "**Question: Which the most common tickets are bought?**"
   ]
  },
  {
   "cell_type": "markdown",
   "id": "258efd0c",
   "metadata": {
    "papermill": {
     "duration": 0.030474,
     "end_time": "2022-09-19T05:12:16.149620",
     "exception": false,
     "start_time": "2022-09-19T05:12:16.119146",
     "status": "completed"
    },
    "tags": []
   },
   "source": [
    "**Answer:** Most of the tickets are Promo Fare"
   ]
  },
  {
   "cell_type": "markdown",
   "id": "4cc623aa",
   "metadata": {
    "papermill": {
     "duration": 0.029128,
     "end_time": "2022-09-19T05:12:16.208257",
     "exception": false,
     "start_time": "2022-09-19T05:12:16.179129",
     "status": "completed"
    },
    "tags": []
   },
   "source": [
    "#### **Task 17: Plot distribution of the ticket prices**"
   ]
  },
  {
   "cell_type": "code",
   "execution_count": 25,
   "id": "17f0c489",
   "metadata": {
    "execution": {
     "iopub.execute_input": "2022-09-19T05:12:16.270970Z",
     "iopub.status.busy": "2022-09-19T05:12:16.270543Z",
     "iopub.status.idle": "2022-09-19T05:12:20.782572Z",
     "shell.execute_reply": "2022-09-19T05:12:20.781423Z"
    },
    "papermill": {
     "duration": 4.547029,
     "end_time": "2022-09-19T05:12:20.785197",
     "exception": false,
     "start_time": "2022-09-19T05:12:16.238168",
     "status": "completed"
    },
    "tags": []
   },
   "outputs": [
    {
     "name": "stderr",
     "output_type": "stream",
     "text": [
      "/opt/conda/lib/python3.7/site-packages/seaborn/distributions.py:2619: FutureWarning: `distplot` is a deprecated function and will be removed in a future version. Please adapt your code to use either `displot` (a figure-level function with similar flexibility) or `histplot` (an axes-level function for histograms).\n",
      "  warnings.warn(msg, FutureWarning)\n",
      "/opt/conda/lib/python3.7/site-packages/seaborn/distributions.py:2103: FutureWarning: The `axis` variable is no longer used and will be removed. Instead, assign variables directly to `x` or `y`.\n",
      "  warnings.warn(msg, FutureWarning)\n"
     ]
    },
    {
     "data": {
      "image/png": "[encoded data removed]",
      "text/plain": [
       "<Figure size 1080x432 with 1 Axes>"
      ]
     },
     "metadata": {},
     "output_type": "display_data"
    }
   ],
   "source": [
    "#write code here\n",
    "plt.figure(figsize=(15,6))\n",
    "sns.distplot(df['price'], rug=True);"
   ]
  },
  {
   "cell_type": "markdown",
   "id": "23800a45",
   "metadata": {
    "papermill": {
     "duration": 0.029754,
     "end_time": "2022-09-19T05:12:20.845119",
     "exception": false,
     "start_time": "2022-09-19T05:12:20.815365",
     "status": "completed"
    },
    "tags": []
   },
   "source": [
    "\n",
    "**Question: What readings can you get from the above plot?**"
   ]
  },
  {
   "cell_type": "markdown",
   "id": "fae695c6",
   "metadata": {
    "papermill": {
     "duration": 0.029574,
     "end_time": "2022-09-19T05:12:20.905138",
     "exception": false,
     "start_time": "2022-09-19T05:12:20.875564",
     "status": "completed"
    },
    "tags": []
   },
   "source": [
    "**Answer:**Most of the passengers bought tickets between 25-30 and rest are between 45 to 100 $          "
   ]
  },
  {
   "cell_type": "markdown",
   "id": "4a8c909a",
   "metadata": {
    "papermill": {
     "duration": 0.030425,
     "end_time": "2022-09-19T05:12:20.966179",
     "exception": false,
     "start_time": "2022-09-19T05:12:20.935754",
     "status": "completed"
    },
    "tags": []
   },
   "source": [
    "###### **Task 18: Show train_class vs price through boxplot**"
   ]
  },
  {
   "cell_type": "code",
   "execution_count": 26,
   "id": "34d63e98",
   "metadata": {
    "execution": {
     "iopub.execute_input": "2022-09-19T05:12:21.031343Z",
     "iopub.status.busy": "2022-09-19T05:12:21.030943Z",
     "iopub.status.idle": "2022-09-19T05:12:21.467248Z",
     "shell.execute_reply": "2022-09-19T05:12:21.466048Z"
    },
    "papermill": {
     "duration": 0.472226,
     "end_time": "2022-09-19T05:12:21.469930",
     "exception": false,
     "start_time": "2022-09-19T05:12:20.997704",
     "status": "completed"
    },
    "tags": []
   },
   "outputs": [
    {
     "data": {
      "text/plain": [
       "<AxesSubplot:xlabel='price', ylabel='train_class'>"
      ]
     },
     "execution_count": 26,
     "metadata": {},
     "output_type": "execute_result"
    },
    {
     "data": {
      "image/png": "[encoded data removed]",
      "text/plain": [
       "<Figure size 432x288 with 1 Axes>"
      ]
     },
     "metadata": {},
     "output_type": "display_data"
    }
   ],
   "source": [
    "sns.boxplot(x='price', y='train_class',data=df, linewidth=2.5,orient='h')"
   ]
  },
  {
   "cell_type": "markdown",
   "id": "82178cfc",
   "metadata": {
    "papermill": {
     "duration": 0.030723,
     "end_time": "2022-09-19T05:12:21.531497",
     "exception": false,
     "start_time": "2022-09-19T05:12:21.500774",
     "status": "completed"
    },
    "tags": []
   },
   "source": [
    "**Question: What pricing trends can you find out by looking at the plot above?**"
   ]
  },
  {
   "cell_type": "markdown",
   "id": "dcf38991",
   "metadata": {
    "papermill": {
     "duration": 0.031063,
     "end_time": "2022-09-19T05:12:21.593317",
     "exception": false,
     "start_time": "2022-09-19T05:12:21.562254",
     "status": "completed"
    },
    "tags": []
   },
   "source": [
    "**Answer:** Turista Plus\" is the train class with the highest ticket price and 'Turista' is one with the lowest price and most number people are buying tickets for 'Turista'"
   ]
  },
  {
   "cell_type": "markdown",
   "id": "202ca548",
   "metadata": {
    "papermill": {
     "duration": 0.031032,
     "end_time": "2022-09-19T05:12:21.654846",
     "exception": false,
     "start_time": "2022-09-19T05:12:21.623814",
     "status": "completed"
    },
    "tags": []
   },
   "source": [
    "#### **Task 19: Show train_type vs price through boxplot**\n"
   ]
  },
  {
   "cell_type": "code",
   "execution_count": 27,
   "id": "cbe1cc90",
   "metadata": {
    "execution": {
     "iopub.execute_input": "2022-09-19T05:12:21.718969Z",
     "iopub.status.busy": "2022-09-19T05:12:21.718584Z",
     "iopub.status.idle": "2022-09-19T05:12:22.343621Z",
     "shell.execute_reply": "2022-09-19T05:12:22.342429Z"
    },
    "papermill": {
     "duration": 0.659526,
     "end_time": "2022-09-19T05:12:22.346181",
     "exception": false,
     "start_time": "2022-09-19T05:12:21.686655",
     "status": "completed"
    },
    "tags": []
   },
   "outputs": [
    {
     "data": {
      "text/plain": [
       "<AxesSubplot:xlabel='train_type', ylabel='price'>"
      ]
     },
     "execution_count": 27,
     "metadata": {},
     "output_type": "execute_result"
    },
    {
     "data": {
      "image/png": "[encoded data removed]",
      "text/plain": [
       "<Figure size 1080x432 with 1 Axes>"
      ]
     },
     "metadata": {},
     "output_type": "display_data"
    }
   ],
   "source": [
    "#write code here\n",
    "plt.figure(figsize=(15,6,))\n",
    "sns.boxplot(x='train_type', y='price',data=df, linewidth=2.5)\n"
   ]
  },
  {
   "cell_type": "markdown",
   "id": "d276c5d3",
   "metadata": {
    "papermill": {
     "duration": 0.030835,
     "end_time": "2022-09-19T05:12:22.408213",
     "exception": false,
     "start_time": "2022-09-19T05:12:22.377378",
     "status": "completed"
    },
    "tags": []
   },
   "source": [
    "**Question: Which type of trains cost more as compared to others?**"
   ]
  },
  {
   "cell_type": "markdown",
   "id": "979c721d",
   "metadata": {
    "papermill": {
     "duration": 0.030636,
     "end_time": "2022-09-19T05:12:22.469605",
     "exception": false,
     "start_time": "2022-09-19T05:12:22.438969",
     "status": "completed"
    },
    "tags": []
   },
   "source": [
    "**Answer:** The average price of the tickets of train_type AVE and AVE-TGV are comparatilvely higher as compared to other train types.\n"
   ]
  },
  {
   "cell_type": "markdown",
   "id": "6bf5cac0",
   "metadata": {
    "papermill": {
     "duration": 0.03035,
     "end_time": "2022-09-19T05:12:22.530800",
     "exception": false,
     "start_time": "2022-09-19T05:12:22.500450",
     "status": "completed"
    },
    "tags": []
   },
   "source": [
    "## Feature Engineering\n"
   ]
  },
  {
   "cell_type": "code",
   "execution_count": 28,
   "id": "72537138",
   "metadata": {
    "execution": {
     "iopub.execute_input": "2022-09-19T05:12:22.594310Z",
     "iopub.status.busy": "2022-09-19T05:12:22.593878Z",
     "iopub.status.idle": "2022-09-19T05:12:22.634227Z",
     "shell.execute_reply": "2022-09-19T05:12:22.633037Z"
    },
    "papermill": {
     "duration": 0.075008,
     "end_time": "2022-09-19T05:12:22.636605",
     "exception": false,
     "start_time": "2022-09-19T05:12:22.561597",
     "status": "completed"
    },
    "tags": []
   },
   "outputs": [
    {
     "data": {
      "text/html": [
       "<div>\n",
       "<style scoped>\n",
       "    .dataframe tbody tr th:only-of-type {\n",
       "        vertical-align: middle;\n",
       "    }\n",
       "\n",
       "    .dataframe tbody tr th {\n",
       "        vertical-align: top;\n",
       "    }\n",
       "\n",
       "    .dataframe thead th {\n",
       "        text-align: right;\n",
       "    }\n",
       "</style>\n",
       "<table border=\"1\" class=\"dataframe\">\n",
       "  <thead>\n",
       "    <tr style=\"text-align: right;\">\n",
       "      <th></th>\n",
       "      <th>index</th>\n",
       "      <th>origin</th>\n",
       "      <th>destination</th>\n",
       "      <th>start_date</th>\n",
       "      <th>end_date</th>\n",
       "      <th>train_type</th>\n",
       "      <th>price</th>\n",
       "      <th>train_class</th>\n",
       "      <th>fare</th>\n",
       "    </tr>\n",
       "  </thead>\n",
       "  <tbody>\n",
       "    <tr>\n",
       "      <th>0</th>\n",
       "      <td>0</td>\n",
       "      <td>PONFERRADA</td>\n",
       "      <td>MADRID</td>\n",
       "      <td>2019-06-02 15:00:00</td>\n",
       "      <td>2019-06-02 19:42:00</td>\n",
       "      <td>MD-AVE</td>\n",
       "      <td>59.50</td>\n",
       "      <td>Turista con enlace</td>\n",
       "      <td>Flexible</td>\n",
       "    </tr>\n",
       "    <tr>\n",
       "      <th>1</th>\n",
       "      <td>1</td>\n",
       "      <td>PONFERRADA</td>\n",
       "      <td>MADRID</td>\n",
       "      <td>2019-06-02 17:15:00</td>\n",
       "      <td>2019-06-02 23:03:00</td>\n",
       "      <td>MD-AVE</td>\n",
       "      <td>34.65</td>\n",
       "      <td>Turista con enlace</td>\n",
       "      <td>Promo +</td>\n",
       "    </tr>\n",
       "    <tr>\n",
       "      <th>2</th>\n",
       "      <td>2</td>\n",
       "      <td>PONFERRADA</td>\n",
       "      <td>MADRID</td>\n",
       "      <td>2019-06-02 17:15:00</td>\n",
       "      <td>2019-06-02 23:10:00</td>\n",
       "      <td>MD-LD</td>\n",
       "      <td>39.95</td>\n",
       "      <td>Turista con enlace</td>\n",
       "      <td>Promo +</td>\n",
       "    </tr>\n",
       "    <tr>\n",
       "      <th>3</th>\n",
       "      <td>3</td>\n",
       "      <td>PONFERRADA</td>\n",
       "      <td>MADRID</td>\n",
       "      <td>2019-06-02 17:15:00</td>\n",
       "      <td>2019-06-02 22:14:00</td>\n",
       "      <td>MD-AVE</td>\n",
       "      <td>40.60</td>\n",
       "      <td>Turista con enlace</td>\n",
       "      <td>Promo +</td>\n",
       "    </tr>\n",
       "    <tr>\n",
       "      <th>4</th>\n",
       "      <td>4</td>\n",
       "      <td>PONFERRADA</td>\n",
       "      <td>MADRID</td>\n",
       "      <td>2019-06-02 18:55:00</td>\n",
       "      <td>2019-06-02 23:03:00</td>\n",
       "      <td>ALVIA</td>\n",
       "      <td>27.90</td>\n",
       "      <td>Turista</td>\n",
       "      <td>Promo</td>\n",
       "    </tr>\n",
       "    <tr>\n",
       "      <th>...</th>\n",
       "      <td>...</td>\n",
       "      <td>...</td>\n",
       "      <td>...</td>\n",
       "      <td>...</td>\n",
       "      <td>...</td>\n",
       "      <td>...</td>\n",
       "      <td>...</td>\n",
       "      <td>...</td>\n",
       "      <td>...</td>\n",
       "    </tr>\n",
       "    <tr>\n",
       "      <th>215261</th>\n",
       "      <td>215904</td>\n",
       "      <td>MADRID</td>\n",
       "      <td>SEVILLA</td>\n",
       "      <td>2019-06-01 17:00:00</td>\n",
       "      <td>2019-06-01 19:38:00</td>\n",
       "      <td>AVE</td>\n",
       "      <td>47.30</td>\n",
       "      <td>Turista</td>\n",
       "      <td>Promo</td>\n",
       "    </tr>\n",
       "    <tr>\n",
       "      <th>215262</th>\n",
       "      <td>215905</td>\n",
       "      <td>MADRID</td>\n",
       "      <td>SEVILLA</td>\n",
       "      <td>2019-06-01 18:00:00</td>\n",
       "      <td>2019-06-01 20:32:00</td>\n",
       "      <td>AVE</td>\n",
       "      <td>47.30</td>\n",
       "      <td>Turista</td>\n",
       "      <td>Promo</td>\n",
       "    </tr>\n",
       "    <tr>\n",
       "      <th>215263</th>\n",
       "      <td>215906</td>\n",
       "      <td>MADRID</td>\n",
       "      <td>SEVILLA</td>\n",
       "      <td>2019-06-01 19:00:00</td>\n",
       "      <td>2019-06-01 21:38:00</td>\n",
       "      <td>AVE</td>\n",
       "      <td>47.30</td>\n",
       "      <td>Turista</td>\n",
       "      <td>Promo</td>\n",
       "    </tr>\n",
       "    <tr>\n",
       "      <th>215264</th>\n",
       "      <td>215907</td>\n",
       "      <td>MADRID</td>\n",
       "      <td>SEVILLA</td>\n",
       "      <td>2019-06-01 20:35:00</td>\n",
       "      <td>2019-06-01 23:15:00</td>\n",
       "      <td>AVE</td>\n",
       "      <td>47.30</td>\n",
       "      <td>Turista</td>\n",
       "      <td>Promo</td>\n",
       "    </tr>\n",
       "    <tr>\n",
       "      <th>215265</th>\n",
       "      <td>215908</td>\n",
       "      <td>MADRID</td>\n",
       "      <td>SEVILLA</td>\n",
       "      <td>2019-06-01 21:25:00</td>\n",
       "      <td>2019-06-02 00:10:00</td>\n",
       "      <td>AV City</td>\n",
       "      <td>52.20</td>\n",
       "      <td>Turista Plus</td>\n",
       "      <td>Promo</td>\n",
       "    </tr>\n",
       "  </tbody>\n",
       "</table>\n",
       "<p>215266 rows × 9 columns</p>\n",
       "</div>"
      ],
      "text/plain": [
       "         index      origin destination           start_date  \\\n",
       "0            0  PONFERRADA      MADRID  2019-06-02 15:00:00   \n",
       "1            1  PONFERRADA      MADRID  2019-06-02 17:15:00   \n",
       "2            2  PONFERRADA      MADRID  2019-06-02 17:15:00   \n",
       "3            3  PONFERRADA      MADRID  2019-06-02 17:15:00   \n",
       "4            4  PONFERRADA      MADRID  2019-06-02 18:55:00   \n",
       "...        ...         ...         ...                  ...   \n",
       "215261  215904      MADRID     SEVILLA  2019-06-01 17:00:00   \n",
       "215262  215905      MADRID     SEVILLA  2019-06-01 18:00:00   \n",
       "215263  215906      MADRID     SEVILLA  2019-06-01 19:00:00   \n",
       "215264  215907      MADRID     SEVILLA  2019-06-01 20:35:00   \n",
       "215265  215908      MADRID     SEVILLA  2019-06-01 21:25:00   \n",
       "\n",
       "                   end_date train_type  price         train_class      fare  \n",
       "0       2019-06-02 19:42:00     MD-AVE  59.50  Turista con enlace  Flexible  \n",
       "1       2019-06-02 23:03:00     MD-AVE  34.65  Turista con enlace   Promo +  \n",
       "2       2019-06-02 23:10:00      MD-LD  39.95  Turista con enlace   Promo +  \n",
       "3       2019-06-02 22:14:00     MD-AVE  40.60  Turista con enlace   Promo +  \n",
       "4       2019-06-02 23:03:00      ALVIA  27.90             Turista     Promo  \n",
       "...                     ...        ...    ...                 ...       ...  \n",
       "215261  2019-06-01 19:38:00        AVE  47.30             Turista     Promo  \n",
       "215262  2019-06-01 20:32:00        AVE  47.30             Turista     Promo  \n",
       "215263  2019-06-01 21:38:00        AVE  47.30             Turista     Promo  \n",
       "215264  2019-06-01 23:15:00        AVE  47.30             Turista     Promo  \n",
       "215265  2019-06-02 00:10:00    AV City  52.20        Turista Plus     Promo  \n",
       "\n",
       "[215266 rows x 9 columns]"
      ]
     },
     "execution_count": 28,
     "metadata": {},
     "output_type": "execute_result"
    }
   ],
   "source": [
    "df = df.reset_index()\n",
    "df"
   ]
  },
  {
   "cell_type": "markdown",
   "id": "c56f7548",
   "metadata": {
    "papermill": {
     "duration": 0.031102,
     "end_time": "2022-09-19T05:12:22.699133",
     "exception": false,
     "start_time": "2022-09-19T05:12:22.668031",
     "status": "completed"
    },
    "tags": []
   },
   "source": [
    "**Finding the travel time between the place of origin and destination**<br>\n",
    "We need to find out the travel time for each entry which can be obtained from the 'start_date' and 'end_date' column. Also if you see, these columns are in object type therefore datetimeFormat should be defined to perform the necessary operation of getting the required time."
   ]
  },
  {
   "cell_type": "markdown",
   "id": "1550083b",
   "metadata": {
    "papermill": {
     "duration": 0.03074,
     "end_time": "2022-09-19T05:12:22.761026",
     "exception": false,
     "start_time": "2022-09-19T05:12:22.730286",
     "status": "completed"
    },
    "tags": []
   },
   "source": [
    "**Import datetime library**"
   ]
  },
  {
   "cell_type": "code",
   "execution_count": 29,
   "id": "c91248c6",
   "metadata": {
    "execution": {
     "iopub.execute_input": "2022-09-19T05:12:22.825246Z",
     "iopub.status.busy": "2022-09-19T05:12:22.824874Z",
     "iopub.status.idle": "2022-09-19T05:12:22.829320Z",
     "shell.execute_reply": "2022-09-19T05:12:22.828214Z"
    },
    "papermill": {
     "duration": 0.039195,
     "end_time": "2022-09-19T05:12:22.831668",
     "exception": false,
     "start_time": "2022-09-19T05:12:22.792473",
     "status": "completed"
    },
    "tags": []
   },
   "outputs": [],
   "source": [
    "#write code here\n",
    "import datetime"
   ]
  },
  {
   "cell_type": "code",
   "execution_count": 30,
   "id": "172088b3",
   "metadata": {
    "execution": {
     "iopub.execute_input": "2022-09-19T05:12:22.896205Z",
     "iopub.status.busy": "2022-09-19T05:12:22.895827Z",
     "iopub.status.idle": "2022-09-19T05:12:22.901985Z",
     "shell.execute_reply": "2022-09-19T05:12:22.900787Z"
    },
    "papermill": {
     "duration": 0.041068,
     "end_time": "2022-09-19T05:12:22.904043",
     "exception": false,
     "start_time": "2022-09-19T05:12:22.862975",
     "status": "completed"
    },
    "tags": []
   },
   "outputs": [],
   "source": [
    "datetimeFormat = '%Y-%m-%d %H:%M:%S'\n",
    "def fun(a,b):\n",
    "    diff = datetime.datetime.strptime(b, datetimeFormat)- datetime.datetime.strptime(a, datetimeFormat)\n",
    "    return(diff.seconds/3600.0) "
   ]
  },
  {
   "cell_type": "code",
   "execution_count": 31,
   "id": "0c3d7a31",
   "metadata": {
    "execution": {
     "iopub.execute_input": "2022-09-19T05:12:22.970702Z",
     "iopub.status.busy": "2022-09-19T05:12:22.969369Z",
     "iopub.status.idle": "2022-09-19T05:12:32.370152Z",
     "shell.execute_reply": "2022-09-19T05:12:32.368868Z"
    },
    "papermill": {
     "duration": 9.43769,
     "end_time": "2022-09-19T05:12:32.373057",
     "exception": false,
     "start_time": "2022-09-19T05:12:22.935367",
     "status": "completed"
    },
    "tags": []
   },
   "outputs": [],
   "source": [
    "df['travel_time_in_hrs'] = df.apply(lambda x:fun(x['start_date'],x['end_date']),axis=1) "
   ]
  },
  {
   "cell_type": "markdown",
   "id": "320add4f",
   "metadata": {
    "papermill": {
     "duration": 0.03273,
     "end_time": "2022-09-19T05:12:32.437949",
     "exception": false,
     "start_time": "2022-09-19T05:12:32.405219",
     "status": "completed"
    },
    "tags": []
   },
   "source": [
    "#### **Task 20: Remove redundant features**\n"
   ]
  },
  {
   "cell_type": "markdown",
   "id": "0bb09546",
   "metadata": {
    "papermill": {
     "duration": 0.031643,
     "end_time": "2022-09-19T05:12:32.501593",
     "exception": false,
     "start_time": "2022-09-19T05:12:32.469950",
     "status": "completed"
    },
    "tags": []
   },
   "source": [
    "**You need to remove features that are giving the related values as  'travel_time_in_hrs'**<br>\n",
    "*Hint: Look for date related columns*"
   ]
  },
  {
   "cell_type": "code",
   "execution_count": 32,
   "id": "acbbf352",
   "metadata": {
    "execution": {
     "iopub.execute_input": "2022-09-19T05:12:32.567269Z",
     "iopub.status.busy": "2022-09-19T05:12:32.566845Z",
     "iopub.status.idle": "2022-09-19T05:12:32.599580Z",
     "shell.execute_reply": "2022-09-19T05:12:32.598699Z"
    },
    "papermill": {
     "duration": 0.068418,
     "end_time": "2022-09-19T05:12:32.601959",
     "exception": false,
     "start_time": "2022-09-19T05:12:32.533541",
     "status": "completed"
    },
    "scrolled": true,
    "tags": []
   },
   "outputs": [
    {
     "data": {
      "text/html": [
       "<div>\n",
       "<style scoped>\n",
       "    .dataframe tbody tr th:only-of-type {\n",
       "        vertical-align: middle;\n",
       "    }\n",
       "\n",
       "    .dataframe tbody tr th {\n",
       "        vertical-align: top;\n",
       "    }\n",
       "\n",
       "    .dataframe thead th {\n",
       "        text-align: right;\n",
       "    }\n",
       "</style>\n",
       "<table border=\"1\" class=\"dataframe\">\n",
       "  <thead>\n",
       "    <tr style=\"text-align: right;\">\n",
       "      <th></th>\n",
       "      <th>index</th>\n",
       "      <th>origin</th>\n",
       "      <th>destination</th>\n",
       "      <th>train_type</th>\n",
       "      <th>price</th>\n",
       "      <th>train_class</th>\n",
       "      <th>fare</th>\n",
       "      <th>travel_time_in_hrs</th>\n",
       "    </tr>\n",
       "  </thead>\n",
       "  <tbody>\n",
       "    <tr>\n",
       "      <th>0</th>\n",
       "      <td>0</td>\n",
       "      <td>PONFERRADA</td>\n",
       "      <td>MADRID</td>\n",
       "      <td>MD-AVE</td>\n",
       "      <td>59.50</td>\n",
       "      <td>Turista con enlace</td>\n",
       "      <td>Flexible</td>\n",
       "      <td>4.700000</td>\n",
       "    </tr>\n",
       "    <tr>\n",
       "      <th>1</th>\n",
       "      <td>1</td>\n",
       "      <td>PONFERRADA</td>\n",
       "      <td>MADRID</td>\n",
       "      <td>MD-AVE</td>\n",
       "      <td>34.65</td>\n",
       "      <td>Turista con enlace</td>\n",
       "      <td>Promo +</td>\n",
       "      <td>5.800000</td>\n",
       "    </tr>\n",
       "    <tr>\n",
       "      <th>2</th>\n",
       "      <td>2</td>\n",
       "      <td>PONFERRADA</td>\n",
       "      <td>MADRID</td>\n",
       "      <td>MD-LD</td>\n",
       "      <td>39.95</td>\n",
       "      <td>Turista con enlace</td>\n",
       "      <td>Promo +</td>\n",
       "      <td>5.916667</td>\n",
       "    </tr>\n",
       "    <tr>\n",
       "      <th>3</th>\n",
       "      <td>3</td>\n",
       "      <td>PONFERRADA</td>\n",
       "      <td>MADRID</td>\n",
       "      <td>MD-AVE</td>\n",
       "      <td>40.60</td>\n",
       "      <td>Turista con enlace</td>\n",
       "      <td>Promo +</td>\n",
       "      <td>4.983333</td>\n",
       "    </tr>\n",
       "    <tr>\n",
       "      <th>4</th>\n",
       "      <td>4</td>\n",
       "      <td>PONFERRADA</td>\n",
       "      <td>MADRID</td>\n",
       "      <td>ALVIA</td>\n",
       "      <td>27.90</td>\n",
       "      <td>Turista</td>\n",
       "      <td>Promo</td>\n",
       "      <td>4.133333</td>\n",
       "    </tr>\n",
       "  </tbody>\n",
       "</table>\n",
       "</div>"
      ],
      "text/plain": [
       "   index      origin destination train_type  price         train_class  \\\n",
       "0      0  PONFERRADA      MADRID     MD-AVE  59.50  Turista con enlace   \n",
       "1      1  PONFERRADA      MADRID     MD-AVE  34.65  Turista con enlace   \n",
       "2      2  PONFERRADA      MADRID      MD-LD  39.95  Turista con enlace   \n",
       "3      3  PONFERRADA      MADRID     MD-AVE  40.60  Turista con enlace   \n",
       "4      4  PONFERRADA      MADRID      ALVIA  27.90             Turista   \n",
       "\n",
       "       fare  travel_time_in_hrs  \n",
       "0  Flexible            4.700000  \n",
       "1   Promo +            5.800000  \n",
       "2   Promo +            5.916667  \n",
       "3   Promo +            4.983333  \n",
       "4     Promo            4.133333  "
      ]
     },
     "execution_count": 32,
     "metadata": {},
     "output_type": "execute_result"
    }
   ],
   "source": [
    "#write code her\n",
    "df.drop(['start_date','end_date'],axis=1,inplace=True)\n",
    "df.head()"
   ]
  },
  {
   "cell_type": "markdown",
   "id": "bd1bc661",
   "metadata": {
    "papermill": {
     "duration": 0.032177,
     "end_time": "2022-09-19T05:12:32.668910",
     "exception": false,
     "start_time": "2022-09-19T05:12:32.636733",
     "status": "completed"
    },
    "tags": []
   },
   "source": [
    "We now need to find out the pricing from 'MADRID' to other destinations. We also need to find out time which each train requires for travelling. "
   ]
  },
  {
   "cell_type": "code",
   "execution_count": 33,
   "id": "7a8add6a",
   "metadata": {
    "execution": {
     "iopub.execute_input": "2022-09-19T05:12:32.737594Z",
     "iopub.status.busy": "2022-09-19T05:12:32.737191Z",
     "iopub.status.idle": "2022-09-19T05:12:32.745812Z",
     "shell.execute_reply": "2022-09-19T05:12:32.744565Z"
    },
    "papermill": {
     "duration": 0.046195,
     "end_time": "2022-09-19T05:12:32.747996",
     "exception": false,
     "start_time": "2022-09-19T05:12:32.701801",
     "status": "completed"
    },
    "tags": []
   },
   "outputs": [
    {
     "data": {
      "text/plain": [
       "index                   int64\n",
       "origin                 object\n",
       "destination            object\n",
       "train_type             object\n",
       "price                 float64\n",
       "train_class            object\n",
       "fare                   object\n",
       "travel_time_in_hrs    float64\n",
       "dtype: object"
      ]
     },
     "execution_count": 33,
     "metadata": {},
     "output_type": "execute_result"
    }
   ],
   "source": [
    "df.dtypes"
   ]
  },
  {
   "cell_type": "markdown",
   "id": "0351c2d8",
   "metadata": {
    "papermill": {
     "duration": 0.031748,
     "end_time": "2022-09-19T05:12:32.812032",
     "exception": false,
     "start_time": "2022-09-19T05:12:32.780284",
     "status": "completed"
    },
    "tags": []
   },
   "source": [
    "## **Travelling from MADRID to SEVILLA**"
   ]
  },
  {
   "cell_type": "markdown",
   "id": "6e7bdd30",
   "metadata": {
    "papermill": {
     "duration": 0.032259,
     "end_time": "2022-09-19T05:12:32.876549",
     "exception": false,
     "start_time": "2022-09-19T05:12:32.844290",
     "status": "completed"
    },
    "tags": []
   },
   "source": [
    "#### Task 21: Findout people travelling from MADRID to SEVILLA"
   ]
  },
  {
   "cell_type": "code",
   "execution_count": 34,
   "id": "d2a5fe24",
   "metadata": {
    "execution": {
     "iopub.execute_input": "2022-09-19T05:12:32.943711Z",
     "iopub.status.busy": "2022-09-19T05:12:32.943015Z",
     "iopub.status.idle": "2022-09-19T05:12:32.991812Z",
     "shell.execute_reply": "2022-09-19T05:12:32.990609Z"
    },
    "papermill": {
     "duration": 0.085991,
     "end_time": "2022-09-19T05:12:32.994289",
     "exception": false,
     "start_time": "2022-09-19T05:12:32.908298",
     "status": "completed"
    },
    "scrolled": true,
    "tags": []
   },
   "outputs": [
    {
     "data": {
      "text/html": [
       "<div>\n",
       "<style scoped>\n",
       "    .dataframe tbody tr th:only-of-type {\n",
       "        vertical-align: middle;\n",
       "    }\n",
       "\n",
       "    .dataframe tbody tr th {\n",
       "        vertical-align: top;\n",
       "    }\n",
       "\n",
       "    .dataframe thead th {\n",
       "        text-align: right;\n",
       "    }\n",
       "</style>\n",
       "<table border=\"1\" class=\"dataframe\">\n",
       "  <thead>\n",
       "    <tr style=\"text-align: right;\">\n",
       "      <th></th>\n",
       "      <th>index</th>\n",
       "      <th>origin</th>\n",
       "      <th>destination</th>\n",
       "      <th>train_type</th>\n",
       "      <th>price</th>\n",
       "      <th>train_class</th>\n",
       "      <th>fare</th>\n",
       "      <th>travel_time_in_hrs</th>\n",
       "    </tr>\n",
       "  </thead>\n",
       "  <tbody>\n",
       "    <tr>\n",
       "      <th>364</th>\n",
       "      <td>364</td>\n",
       "      <td>MADRID</td>\n",
       "      <td>SEVILLA</td>\n",
       "      <td>AV City</td>\n",
       "      <td>49.150000</td>\n",
       "      <td>Turista</td>\n",
       "      <td>Promo</td>\n",
       "      <td>2.916667</td>\n",
       "    </tr>\n",
       "    <tr>\n",
       "      <th>365</th>\n",
       "      <td>365</td>\n",
       "      <td>MADRID</td>\n",
       "      <td>SEVILLA</td>\n",
       "      <td>ALVIA</td>\n",
       "      <td>56.723877</td>\n",
       "      <td>Preferente</td>\n",
       "      <td>Promo</td>\n",
       "      <td>2.733333</td>\n",
       "    </tr>\n",
       "    <tr>\n",
       "      <th>366</th>\n",
       "      <td>366</td>\n",
       "      <td>MADRID</td>\n",
       "      <td>SEVILLA</td>\n",
       "      <td>AVE</td>\n",
       "      <td>69.400000</td>\n",
       "      <td>Preferente</td>\n",
       "      <td>Promo</td>\n",
       "      <td>2.633333</td>\n",
       "    </tr>\n",
       "    <tr>\n",
       "      <th>367</th>\n",
       "      <td>367</td>\n",
       "      <td>MADRID</td>\n",
       "      <td>SEVILLA</td>\n",
       "      <td>AVE</td>\n",
       "      <td>76.300000</td>\n",
       "      <td>Turista</td>\n",
       "      <td>Flexible</td>\n",
       "      <td>2.533333</td>\n",
       "    </tr>\n",
       "    <tr>\n",
       "      <th>368</th>\n",
       "      <td>368</td>\n",
       "      <td>MADRID</td>\n",
       "      <td>SEVILLA</td>\n",
       "      <td>ALVIA</td>\n",
       "      <td>56.723877</td>\n",
       "      <td>Preferente</td>\n",
       "      <td>Promo</td>\n",
       "      <td>2.600000</td>\n",
       "    </tr>\n",
       "  </tbody>\n",
       "</table>\n",
       "</div>"
      ],
      "text/plain": [
       "     index  origin destination train_type      price train_class      fare  \\\n",
       "364    364  MADRID     SEVILLA    AV City  49.150000     Turista     Promo   \n",
       "365    365  MADRID     SEVILLA      ALVIA  56.723877  Preferente     Promo   \n",
       "366    366  MADRID     SEVILLA        AVE  69.400000  Preferente     Promo   \n",
       "367    367  MADRID     SEVILLA        AVE  76.300000     Turista  Flexible   \n",
       "368    368  MADRID     SEVILLA      ALVIA  56.723877  Preferente     Promo   \n",
       "\n",
       "     travel_time_in_hrs  \n",
       "364            2.916667  \n",
       "365            2.733333  \n",
       "366            2.633333  \n",
       "367            2.533333  \n",
       "368            2.600000  "
      ]
     },
     "execution_count": 34,
     "metadata": {},
     "output_type": "execute_result"
    }
   ],
   "source": [
    "#write code here\n",
    "df1 = df[(df['origin']==\"MADRID\") & (df['destination']==\"SEVILLA\")]\n",
    "df1.head()"
   ]
  },
  {
   "cell_type": "markdown",
   "id": "cfc6d412",
   "metadata": {
    "papermill": {
     "duration": 0.031924,
     "end_time": "2022-09-19T05:12:33.058770",
     "exception": false,
     "start_time": "2022-09-19T05:12:33.026846",
     "status": "completed"
    },
    "tags": []
   },
   "source": [
    "#### Task 22: Make a plot for finding out travelling hours for each train type"
   ]
  },
  {
   "cell_type": "code",
   "execution_count": 35,
   "id": "f130200b",
   "metadata": {
    "execution": {
     "iopub.execute_input": "2022-09-19T05:12:33.126003Z",
     "iopub.status.busy": "2022-09-19T05:12:33.125614Z",
     "iopub.status.idle": "2022-09-19T05:12:33.819818Z",
     "shell.execute_reply": "2022-09-19T05:12:33.818675Z"
    },
    "papermill": {
     "duration": 0.730805,
     "end_time": "2022-09-19T05:12:33.822259",
     "exception": false,
     "start_time": "2022-09-19T05:12:33.091454",
     "status": "completed"
    },
    "scrolled": true,
    "tags": []
   },
   "outputs": [
    {
     "data": {
      "image/png": "[encoded data removed]",
      "text/plain": [
       "<Figure size 432x288 with 1 Axes>"
      ]
     },
     "metadata": {},
     "output_type": "display_data"
    }
   ],
   "source": [
    "#write code here\n",
    "sns.barplot(x=\"train_type\",y=\"travel_time_in_hrs\",data=df1);"
   ]
  },
  {
   "cell_type": "markdown",
   "id": "6aad8626",
   "metadata": {
    "papermill": {
     "duration": 0.032278,
     "end_time": "2022-09-19T05:12:33.887202",
     "exception": false,
     "start_time": "2022-09-19T05:12:33.854924",
     "status": "completed"
    },
    "tags": []
   },
   "source": [
    "#### **Task 23: Show train_type vs price through boxplot**\n"
   ]
  },
  {
   "cell_type": "code",
   "execution_count": 36,
   "id": "3d8ddd0f",
   "metadata": {
    "execution": {
     "iopub.execute_input": "2022-09-19T05:12:33.953756Z",
     "iopub.status.busy": "2022-09-19T05:12:33.953327Z",
     "iopub.status.idle": "2022-09-19T05:12:34.267164Z",
     "shell.execute_reply": "2022-09-19T05:12:34.266236Z"
    },
    "papermill": {
     "duration": 0.349873,
     "end_time": "2022-09-19T05:12:34.269421",
     "exception": false,
     "start_time": "2022-09-19T05:12:33.919548",
     "status": "completed"
    },
    "tags": []
   },
   "outputs": [
    {
     "data": {
      "image/png": "[encoded data removed]",
      "text/plain": [
       "<Figure size 432x288 with 1 Axes>"
      ]
     },
     "metadata": {},
     "output_type": "display_data"
    }
   ],
   "source": [
    "#write code here\n",
    "sns.boxplot(x=\"train_type\",y=\"price\",data=df1);"
   ]
  },
  {
   "cell_type": "markdown",
   "id": "791f5bb8",
   "metadata": {
    "papermill": {
     "duration": 0.03258,
     "end_time": "2022-09-19T05:12:34.335068",
     "exception": false,
     "start_time": "2022-09-19T05:12:34.302488",
     "status": "completed"
    },
    "tags": []
   },
   "source": [
    "## **Travelling from MADRID to BARCELONA**\n"
   ]
  },
  {
   "cell_type": "markdown",
   "id": "f04df642",
   "metadata": {
    "papermill": {
     "duration": 0.032648,
     "end_time": "2022-09-19T05:12:34.400760",
     "exception": false,
     "start_time": "2022-09-19T05:12:34.368112",
     "status": "completed"
    },
    "tags": []
   },
   "source": [
    "#### Task 24: Findout people travelling from MADRID to BARCELONA"
   ]
  },
  {
   "cell_type": "code",
   "execution_count": 37,
   "id": "868b2919",
   "metadata": {
    "execution": {
     "iopub.execute_input": "2022-09-19T05:12:34.470903Z",
     "iopub.status.busy": "2022-09-19T05:12:34.470459Z",
     "iopub.status.idle": "2022-09-19T05:12:34.517785Z",
     "shell.execute_reply": "2022-09-19T05:12:34.517004Z"
    },
    "papermill": {
     "duration": 0.085678,
     "end_time": "2022-09-19T05:12:34.519846",
     "exception": false,
     "start_time": "2022-09-19T05:12:34.434168",
     "status": "completed"
    },
    "tags": []
   },
   "outputs": [
    {
     "data": {
      "text/html": [
       "<div>\n",
       "<style scoped>\n",
       "    .dataframe tbody tr th:only-of-type {\n",
       "        vertical-align: middle;\n",
       "    }\n",
       "\n",
       "    .dataframe tbody tr th {\n",
       "        vertical-align: top;\n",
       "    }\n",
       "\n",
       "    .dataframe thead th {\n",
       "        text-align: right;\n",
       "    }\n",
       "</style>\n",
       "<table border=\"1\" class=\"dataframe\">\n",
       "  <thead>\n",
       "    <tr style=\"text-align: right;\">\n",
       "      <th></th>\n",
       "      <th>index</th>\n",
       "      <th>origin</th>\n",
       "      <th>destination</th>\n",
       "      <th>train_type</th>\n",
       "      <th>price</th>\n",
       "      <th>train_class</th>\n",
       "      <th>fare</th>\n",
       "      <th>travel_time_in_hrs</th>\n",
       "    </tr>\n",
       "  </thead>\n",
       "  <tbody>\n",
       "    <tr>\n",
       "      <th>79</th>\n",
       "      <td>79</td>\n",
       "      <td>MADRID</td>\n",
       "      <td>BARCELONA</td>\n",
       "      <td>R. EXPRES</td>\n",
       "      <td>43.25</td>\n",
       "      <td>Turista</td>\n",
       "      <td>Adulto ida</td>\n",
       "      <td>9.366667</td>\n",
       "    </tr>\n",
       "    <tr>\n",
       "      <th>80</th>\n",
       "      <td>80</td>\n",
       "      <td>MADRID</td>\n",
       "      <td>BARCELONA</td>\n",
       "      <td>R. EXPRES</td>\n",
       "      <td>43.25</td>\n",
       "      <td>Turista</td>\n",
       "      <td>Adulto ida</td>\n",
       "      <td>9.366667</td>\n",
       "    </tr>\n",
       "    <tr>\n",
       "      <th>81</th>\n",
       "      <td>81</td>\n",
       "      <td>MADRID</td>\n",
       "      <td>BARCELONA</td>\n",
       "      <td>R. EXPRES</td>\n",
       "      <td>43.25</td>\n",
       "      <td>Turista</td>\n",
       "      <td>Adulto ida</td>\n",
       "      <td>9.366667</td>\n",
       "    </tr>\n",
       "    <tr>\n",
       "      <th>82</th>\n",
       "      <td>82</td>\n",
       "      <td>MADRID</td>\n",
       "      <td>BARCELONA</td>\n",
       "      <td>R. EXPRES</td>\n",
       "      <td>43.25</td>\n",
       "      <td>Turista</td>\n",
       "      <td>Adulto ida</td>\n",
       "      <td>9.366667</td>\n",
       "    </tr>\n",
       "    <tr>\n",
       "      <th>83</th>\n",
       "      <td>83</td>\n",
       "      <td>MADRID</td>\n",
       "      <td>BARCELONA</td>\n",
       "      <td>AVE</td>\n",
       "      <td>66.75</td>\n",
       "      <td>Turista</td>\n",
       "      <td>Promo</td>\n",
       "      <td>3.150000</td>\n",
       "    </tr>\n",
       "  </tbody>\n",
       "</table>\n",
       "</div>"
      ],
      "text/plain": [
       "    index  origin destination train_type  price train_class        fare  \\\n",
       "79     79  MADRID   BARCELONA  R. EXPRES  43.25     Turista  Adulto ida   \n",
       "80     80  MADRID   BARCELONA  R. EXPRES  43.25     Turista  Adulto ida   \n",
       "81     81  MADRID   BARCELONA  R. EXPRES  43.25     Turista  Adulto ida   \n",
       "82     82  MADRID   BARCELONA  R. EXPRES  43.25     Turista  Adulto ida   \n",
       "83     83  MADRID   BARCELONA        AVE  66.75     Turista       Promo   \n",
       "\n",
       "    travel_time_in_hrs  \n",
       "79            9.366667  \n",
       "80            9.366667  \n",
       "81            9.366667  \n",
       "82            9.366667  \n",
       "83            3.150000  "
      ]
     },
     "execution_count": 37,
     "metadata": {},
     "output_type": "execute_result"
    }
   ],
   "source": [
    "#write code here\n",
    "df1 = df[(df['origin']==\"MADRID\") & (df['destination']==\"BARCELONA\")]\n",
    "df1.head()"
   ]
  },
  {
   "cell_type": "markdown",
   "id": "36006453",
   "metadata": {
    "papermill": {
     "duration": 0.03338,
     "end_time": "2022-09-19T05:12:34.587599",
     "exception": false,
     "start_time": "2022-09-19T05:12:34.554219",
     "status": "completed"
    },
    "tags": []
   },
   "source": [
    "#### Task 25: Make a plot for finding out travelling hours for each train type"
   ]
  },
  {
   "cell_type": "code",
   "execution_count": 38,
   "id": "80827c07",
   "metadata": {
    "execution": {
     "iopub.execute_input": "2022-09-19T05:12:34.657545Z",
     "iopub.status.busy": "2022-09-19T05:12:34.657084Z",
     "iopub.status.idle": "2022-09-19T05:12:35.475379Z",
     "shell.execute_reply": "2022-09-19T05:12:35.474543Z"
    },
    "papermill": {
     "duration": 0.85641,
     "end_time": "2022-09-19T05:12:35.477581",
     "exception": false,
     "start_time": "2022-09-19T05:12:34.621171",
     "status": "completed"
    },
    "tags": []
   },
   "outputs": [
    {
     "data": {
      "image/png": "[encoded data removed]",
      "text/plain": [
       "<Figure size 432x288 with 1 Axes>"
      ]
     },
     "metadata": {},
     "output_type": "display_data"
    }
   ],
   "source": [
    "#write code here\n",
    "sns.barplot(x=\"train_type\",y=\"travel_time_in_hrs\",data=df1);"
   ]
  },
  {
   "cell_type": "markdown",
   "id": "a637fa56",
   "metadata": {
    "papermill": {
     "duration": 0.036435,
     "end_time": "2022-09-19T05:12:35.549532",
     "exception": false,
     "start_time": "2022-09-19T05:12:35.513097",
     "status": "completed"
    },
    "tags": []
   },
   "source": [
    "#### **Task 26: Show train_type vs price through boxplot**"
   ]
  },
  {
   "cell_type": "code",
   "execution_count": 39,
   "id": "2b039a41",
   "metadata": {
    "execution": {
     "iopub.execute_input": "2022-09-19T05:12:35.620340Z",
     "iopub.status.busy": "2022-09-19T05:12:35.619172Z",
     "iopub.status.idle": "2022-09-19T05:12:35.921802Z",
     "shell.execute_reply": "2022-09-19T05:12:35.920674Z"
    },
    "papermill": {
     "duration": 0.34068,
     "end_time": "2022-09-19T05:12:35.924299",
     "exception": false,
     "start_time": "2022-09-19T05:12:35.583619",
     "status": "completed"
    },
    "scrolled": true,
    "tags": []
   },
   "outputs": [
    {
     "data": {
      "image/png": "[encoded data removed]",
      "text/plain": [
       "<Figure size 432x288 with 1 Axes>"
      ]
     },
     "metadata": {},
     "output_type": "display_data"
    }
   ],
   "source": [
    "#write code here\n",
    "sns.boxplot(x=\"train_type\",y=\"price\",data=df1);"
   ]
  },
  {
   "cell_type": "markdown",
   "id": "f87c8e1e",
   "metadata": {
    "papermill": {
     "duration": 0.034392,
     "end_time": "2022-09-19T05:12:36.062342",
     "exception": false,
     "start_time": "2022-09-19T05:12:36.027950",
     "status": "completed"
    },
    "tags": []
   },
   "source": [
    "## **Travelling from MADRID to VALENCIA**"
   ]
  },
  {
   "cell_type": "markdown",
   "id": "98b1607f",
   "metadata": {
    "papermill": {
     "duration": 0.035525,
     "end_time": "2022-09-19T05:12:36.132198",
     "exception": false,
     "start_time": "2022-09-19T05:12:36.096673",
     "status": "completed"
    },
    "tags": []
   },
   "source": [
    "#### Task 27: Findout people travelling from MADRID to VALENCIA"
   ]
  },
  {
   "cell_type": "code",
   "execution_count": 40,
   "id": "260f4253",
   "metadata": {
    "execution": {
     "iopub.execute_input": "2022-09-19T05:12:36.204634Z",
     "iopub.status.busy": "2022-09-19T05:12:36.203702Z",
     "iopub.status.idle": "2022-09-19T05:12:36.254184Z",
     "shell.execute_reply": "2022-09-19T05:12:36.252913Z"
    },
    "papermill": {
     "duration": 0.088791,
     "end_time": "2022-09-19T05:12:36.256664",
     "exception": false,
     "start_time": "2022-09-19T05:12:36.167873",
     "status": "completed"
    },
    "tags": []
   },
   "outputs": [
    {
     "data": {
      "text/html": [
       "<div>\n",
       "<style scoped>\n",
       "    .dataframe tbody tr th:only-of-type {\n",
       "        vertical-align: middle;\n",
       "    }\n",
       "\n",
       "    .dataframe tbody tr th {\n",
       "        vertical-align: top;\n",
       "    }\n",
       "\n",
       "    .dataframe thead th {\n",
       "        text-align: right;\n",
       "    }\n",
       "</style>\n",
       "<table border=\"1\" class=\"dataframe\">\n",
       "  <thead>\n",
       "    <tr style=\"text-align: right;\">\n",
       "      <th></th>\n",
       "      <th>index</th>\n",
       "      <th>origin</th>\n",
       "      <th>destination</th>\n",
       "      <th>train_type</th>\n",
       "      <th>price</th>\n",
       "      <th>train_class</th>\n",
       "      <th>fare</th>\n",
       "      <th>travel_time_in_hrs</th>\n",
       "    </tr>\n",
       "  </thead>\n",
       "  <tbody>\n",
       "    <tr>\n",
       "      <th>5</th>\n",
       "      <td>5</td>\n",
       "      <td>MADRID</td>\n",
       "      <td>VALENCIA</td>\n",
       "      <td>REGIONAL</td>\n",
       "      <td>28.35</td>\n",
       "      <td>Turista</td>\n",
       "      <td>Adulto ida</td>\n",
       "      <td>6.783333</td>\n",
       "    </tr>\n",
       "    <tr>\n",
       "      <th>6</th>\n",
       "      <td>6</td>\n",
       "      <td>MADRID</td>\n",
       "      <td>VALENCIA</td>\n",
       "      <td>REGIONAL</td>\n",
       "      <td>28.35</td>\n",
       "      <td>Turista</td>\n",
       "      <td>Adulto ida</td>\n",
       "      <td>6.716667</td>\n",
       "    </tr>\n",
       "    <tr>\n",
       "      <th>7</th>\n",
       "      <td>7</td>\n",
       "      <td>MADRID</td>\n",
       "      <td>VALENCIA</td>\n",
       "      <td>REGIONAL</td>\n",
       "      <td>28.35</td>\n",
       "      <td>Turista</td>\n",
       "      <td>Adulto ida</td>\n",
       "      <td>6.700000</td>\n",
       "    </tr>\n",
       "    <tr>\n",
       "      <th>8</th>\n",
       "      <td>8</td>\n",
       "      <td>MADRID</td>\n",
       "      <td>VALENCIA</td>\n",
       "      <td>REGIONAL</td>\n",
       "      <td>28.35</td>\n",
       "      <td>Turista</td>\n",
       "      <td>Adulto ida</td>\n",
       "      <td>6.583333</td>\n",
       "    </tr>\n",
       "    <tr>\n",
       "      <th>9</th>\n",
       "      <td>9</td>\n",
       "      <td>MADRID</td>\n",
       "      <td>VALENCIA</td>\n",
       "      <td>REGIONAL</td>\n",
       "      <td>28.35</td>\n",
       "      <td>Turista</td>\n",
       "      <td>Adulto ida</td>\n",
       "      <td>6.366667</td>\n",
       "    </tr>\n",
       "  </tbody>\n",
       "</table>\n",
       "</div>"
      ],
      "text/plain": [
       "   index  origin destination train_type  price train_class        fare  \\\n",
       "5      5  MADRID    VALENCIA   REGIONAL  28.35     Turista  Adulto ida   \n",
       "6      6  MADRID    VALENCIA   REGIONAL  28.35     Turista  Adulto ida   \n",
       "7      7  MADRID    VALENCIA   REGIONAL  28.35     Turista  Adulto ida   \n",
       "8      8  MADRID    VALENCIA   REGIONAL  28.35     Turista  Adulto ida   \n",
       "9      9  MADRID    VALENCIA   REGIONAL  28.35     Turista  Adulto ida   \n",
       "\n",
       "   travel_time_in_hrs  \n",
       "5            6.783333  \n",
       "6            6.716667  \n",
       "7            6.700000  \n",
       "8            6.583333  \n",
       "9            6.366667  "
      ]
     },
     "execution_count": 40,
     "metadata": {},
     "output_type": "execute_result"
    }
   ],
   "source": [
    "#write code here\n",
    "df1 = df[(df['origin']==\"MADRID\") & (df['destination']==\"VALENCIA\")]\n",
    "df1.head()"
   ]
  },
  {
   "cell_type": "markdown",
   "id": "f59c7d3b",
   "metadata": {
    "papermill": {
     "duration": 0.036093,
     "end_time": "2022-09-19T05:12:36.327806",
     "exception": false,
     "start_time": "2022-09-19T05:12:36.291713",
     "status": "completed"
    },
    "tags": []
   },
   "source": [
    "#### Task 28: Make a plot for finding out travelling hours for each train type"
   ]
  },
  {
   "cell_type": "code",
   "execution_count": 41,
   "id": "61de4898",
   "metadata": {
    "execution": {
     "iopub.execute_input": "2022-09-19T05:12:36.400076Z",
     "iopub.status.busy": "2022-09-19T05:12:36.399613Z",
     "iopub.status.idle": "2022-09-19T05:12:37.203382Z",
     "shell.execute_reply": "2022-09-19T05:12:37.202546Z"
    },
    "papermill": {
     "duration": 0.842236,
     "end_time": "2022-09-19T05:12:37.205474",
     "exception": false,
     "start_time": "2022-09-19T05:12:36.363238",
     "status": "completed"
    },
    "scrolled": true,
    "tags": []
   },
   "outputs": [
    {
     "data": {
      "image/png": "[encoded data removed]",
      "text/plain": [
       "<Figure size 432x288 with 1 Axes>"
      ]
     },
     "metadata": {},
     "output_type": "display_data"
    }
   ],
   "source": [
    "#write code here\n",
    "sns.barplot(x=\"train_type\",y=\"travel_time_in_hrs\",data=df1);"
   ]
  },
  {
   "cell_type": "markdown",
   "id": "9a8d3ad2",
   "metadata": {
    "papermill": {
     "duration": 0.035737,
     "end_time": "2022-09-19T05:12:37.275746",
     "exception": false,
     "start_time": "2022-09-19T05:12:37.240009",
     "status": "completed"
    },
    "tags": []
   },
   "source": [
    "#### **Task 29: Show train_type vs price through boxplot**"
   ]
  },
  {
   "cell_type": "code",
   "execution_count": 42,
   "id": "4043d12d",
   "metadata": {
    "execution": {
     "iopub.execute_input": "2022-09-19T05:12:37.349096Z",
     "iopub.status.busy": "2022-09-19T05:12:37.347889Z",
     "iopub.status.idle": "2022-09-19T05:12:37.649749Z",
     "shell.execute_reply": "2022-09-19T05:12:37.648545Z"
    },
    "papermill": {
     "duration": 0.340835,
     "end_time": "2022-09-19T05:12:37.652258",
     "exception": false,
     "start_time": "2022-09-19T05:12:37.311423",
     "status": "completed"
    },
    "scrolled": true,
    "tags": []
   },
   "outputs": [
    {
     "data": {
      "image/png": "[encoded data removed]",
      "text/plain": [
       "<Figure size 432x288 with 1 Axes>"
      ]
     },
     "metadata": {},
     "output_type": "display_data"
    }
   ],
   "source": [
    "#write code here\n",
    "sns.boxplot(x=\"train_type\",y=\"price\",data=df1);"
   ]
  },
  {
   "cell_type": "markdown",
   "id": "fd1293b3",
   "metadata": {
    "papermill": {
     "duration": 0.036167,
     "end_time": "2022-09-19T05:12:37.723881",
     "exception": false,
     "start_time": "2022-09-19T05:12:37.687714",
     "status": "completed"
    },
    "tags": []
   },
   "source": [
    "## **Travelling from MADRID to PONFERRADA**"
   ]
  },
  {
   "cell_type": "markdown",
   "id": "e2a25640",
   "metadata": {
    "papermill": {
     "duration": 0.035793,
     "end_time": "2022-09-19T05:12:37.794909",
     "exception": false,
     "start_time": "2022-09-19T05:12:37.759116",
     "status": "completed"
    },
    "tags": []
   },
   "source": [
    "#### Task 30: Findout people travelling from MADRID to PONFERRADA"
   ]
  },
  {
   "cell_type": "code",
   "execution_count": 43,
   "id": "a3b3a0e7",
   "metadata": {
    "execution": {
     "iopub.execute_input": "2022-09-19T05:12:37.868059Z",
     "iopub.status.busy": "2022-09-19T05:12:37.867083Z",
     "iopub.status.idle": "2022-09-19T05:12:37.915250Z",
     "shell.execute_reply": "2022-09-19T05:12:37.914054Z"
    },
    "papermill": {
     "duration": 0.087248,
     "end_time": "2022-09-19T05:12:37.917673",
     "exception": false,
     "start_time": "2022-09-19T05:12:37.830425",
     "status": "completed"
    },
    "tags": []
   },
   "outputs": [
    {
     "data": {
      "text/html": [
       "<div>\n",
       "<style scoped>\n",
       "    .dataframe tbody tr th:only-of-type {\n",
       "        vertical-align: middle;\n",
       "    }\n",
       "\n",
       "    .dataframe tbody tr th {\n",
       "        vertical-align: top;\n",
       "    }\n",
       "\n",
       "    .dataframe thead th {\n",
       "        text-align: right;\n",
       "    }\n",
       "</style>\n",
       "<table border=\"1\" class=\"dataframe\">\n",
       "  <thead>\n",
       "    <tr style=\"text-align: right;\">\n",
       "      <th></th>\n",
       "      <th>index</th>\n",
       "      <th>origin</th>\n",
       "      <th>destination</th>\n",
       "      <th>train_type</th>\n",
       "      <th>price</th>\n",
       "      <th>train_class</th>\n",
       "      <th>fare</th>\n",
       "      <th>travel_time_in_hrs</th>\n",
       "    </tr>\n",
       "  </thead>\n",
       "  <tbody>\n",
       "    <tr>\n",
       "      <th>233</th>\n",
       "      <td>233</td>\n",
       "      <td>MADRID</td>\n",
       "      <td>PONFERRADA</td>\n",
       "      <td>AVE-MD</td>\n",
       "      <td>35.750000</td>\n",
       "      <td>Turista con enlace</td>\n",
       "      <td>Promo</td>\n",
       "      <td>3.883333</td>\n",
       "    </tr>\n",
       "    <tr>\n",
       "      <th>234</th>\n",
       "      <td>234</td>\n",
       "      <td>MADRID</td>\n",
       "      <td>PONFERRADA</td>\n",
       "      <td>AVE-LD</td>\n",
       "      <td>31.200000</td>\n",
       "      <td>Turista con enlace</td>\n",
       "      <td>Promo</td>\n",
       "      <td>4.200000</td>\n",
       "    </tr>\n",
       "    <tr>\n",
       "      <th>235</th>\n",
       "      <td>235</td>\n",
       "      <td>MADRID</td>\n",
       "      <td>PONFERRADA</td>\n",
       "      <td>ALVIA</td>\n",
       "      <td>33.500000</td>\n",
       "      <td>Turista</td>\n",
       "      <td>Promo</td>\n",
       "      <td>4.050000</td>\n",
       "    </tr>\n",
       "    <tr>\n",
       "      <th>236</th>\n",
       "      <td>236</td>\n",
       "      <td>MADRID</td>\n",
       "      <td>PONFERRADA</td>\n",
       "      <td>LD-MD</td>\n",
       "      <td>56.723877</td>\n",
       "      <td>Turista con enlace</td>\n",
       "      <td>Promo +</td>\n",
       "      <td>6.533333</td>\n",
       "    </tr>\n",
       "    <tr>\n",
       "      <th>237</th>\n",
       "      <td>237</td>\n",
       "      <td>MADRID</td>\n",
       "      <td>PONFERRADA</td>\n",
       "      <td>LD</td>\n",
       "      <td>42.750000</td>\n",
       "      <td>Turista con enlace</td>\n",
       "      <td>Promo +</td>\n",
       "      <td>4.200000</td>\n",
       "    </tr>\n",
       "  </tbody>\n",
       "</table>\n",
       "</div>"
      ],
      "text/plain": [
       "     index  origin destination train_type      price         train_class  \\\n",
       "233    233  MADRID  PONFERRADA     AVE-MD  35.750000  Turista con enlace   \n",
       "234    234  MADRID  PONFERRADA     AVE-LD  31.200000  Turista con enlace   \n",
       "235    235  MADRID  PONFERRADA      ALVIA  33.500000             Turista   \n",
       "236    236  MADRID  PONFERRADA      LD-MD  56.723877  Turista con enlace   \n",
       "237    237  MADRID  PONFERRADA         LD  42.750000  Turista con enlace   \n",
       "\n",
       "        fare  travel_time_in_hrs  \n",
       "233    Promo            3.883333  \n",
       "234    Promo            4.200000  \n",
       "235    Promo            4.050000  \n",
       "236  Promo +            6.533333  \n",
       "237  Promo +            4.200000  "
      ]
     },
     "execution_count": 43,
     "metadata": {},
     "output_type": "execute_result"
    }
   ],
   "source": [
    "#write code here\n",
    "df1 = df[(df['origin']==\"MADRID\") & (df['destination']==\"PONFERRADA\")]\n",
    "df1.head()"
   ]
  },
  {
   "cell_type": "markdown",
   "id": "836fb9ce",
   "metadata": {
    "papermill": {
     "duration": 0.035118,
     "end_time": "2022-09-19T05:12:37.988365",
     "exception": false,
     "start_time": "2022-09-19T05:12:37.953247",
     "status": "completed"
    },
    "tags": []
   },
   "source": [
    "#### Task 31: Make a plot for finding out travelling hours for each train type"
   ]
  },
  {
   "cell_type": "code",
   "execution_count": 44,
   "id": "cc0cea51",
   "metadata": {
    "execution": {
     "iopub.execute_input": "2022-09-19T05:12:38.063611Z",
     "iopub.status.busy": "2022-09-19T05:12:38.063166Z",
     "iopub.status.idle": "2022-09-19T05:12:38.517868Z",
     "shell.execute_reply": "2022-09-19T05:12:38.516581Z"
    },
    "papermill": {
     "duration": 0.495687,
     "end_time": "2022-09-19T05:12:38.520625",
     "exception": false,
     "start_time": "2022-09-19T05:12:38.024938",
     "status": "completed"
    },
    "scrolled": true,
    "tags": []
   },
   "outputs": [
    {
     "data": {
      "image/png": "[encoded data removed]",
      "text/plain": [
       "<Figure size 432x288 with 1 Axes>"
      ]
     },
     "metadata": {},
     "output_type": "display_data"
    }
   ],
   "source": [
    "#write code here\n",
    "sns.barplot(x=\"train_type\",y=\"travel_time_in_hrs\",data=df1);"
   ]
  },
  {
   "cell_type": "markdown",
   "id": "a83e0fac",
   "metadata": {
    "papermill": {
     "duration": 0.035888,
     "end_time": "2022-09-19T05:12:38.593161",
     "exception": false,
     "start_time": "2022-09-19T05:12:38.557273",
     "status": "completed"
    },
    "tags": []
   },
   "source": [
    "#### **Task 32: Show train_type vs price through boxplot**"
   ]
  },
  {
   "cell_type": "code",
   "execution_count": 45,
   "id": "476921cd",
   "metadata": {
    "execution": {
     "iopub.execute_input": "2022-09-19T05:12:38.668716Z",
     "iopub.status.busy": "2022-09-19T05:12:38.668275Z",
     "iopub.status.idle": "2022-09-19T05:12:38.980667Z",
     "shell.execute_reply": "2022-09-19T05:12:38.979489Z"
    },
    "papermill": {
     "duration": 0.353807,
     "end_time": "2022-09-19T05:12:38.983275",
     "exception": false,
     "start_time": "2022-09-19T05:12:38.629468",
     "status": "completed"
    },
    "scrolled": true,
    "tags": []
   },
   "outputs": [
    {
     "data": {
      "image/png": "[encoded data removed]",
      "text/plain": [
       "<Figure size 432x288 with 1 Axes>"
      ]
     },
     "metadata": {},
     "output_type": "display_data"
    }
   ],
   "source": [
    "#write code here\n",
    "sns.boxplot(x=\"train_type\",y=\"price\",data=df1);"
   ]
  },
  {
   "cell_type": "markdown",
   "id": "aaabd8f1",
   "metadata": {
    "papermill": {
     "duration": 0.036964,
     "end_time": "2022-09-19T05:12:39.056489",
     "exception": false,
     "start_time": "2022-09-19T05:12:39.019525",
     "status": "completed"
    },
    "tags": []
   },
   "source": [
    "# Applying Linear  Regression"
   ]
  },
  {
   "cell_type": "markdown",
   "id": "0703af13",
   "metadata": {
    "papermill": {
     "duration": 0.036842,
     "end_time": "2022-09-19T05:12:39.129335",
     "exception": false,
     "start_time": "2022-09-19T05:12:39.092493",
     "status": "completed"
    },
    "tags": []
   },
   "source": [
    "#### Task 33: Import LabelEncoder library from sklearn "
   ]
  },
  {
   "cell_type": "code",
   "execution_count": 46,
   "id": "08986a90",
   "metadata": {
    "execution": {
     "iopub.execute_input": "2022-09-19T05:12:39.205867Z",
     "iopub.status.busy": "2022-09-19T05:12:39.205189Z",
     "iopub.status.idle": "2022-09-19T05:12:39.366864Z",
     "shell.execute_reply": "2022-09-19T05:12:39.365648Z"
    },
    "papermill": {
     "duration": 0.204663,
     "end_time": "2022-09-19T05:12:39.369894",
     "exception": false,
     "start_time": "2022-09-19T05:12:39.165231",
     "status": "completed"
    },
    "tags": []
   },
   "outputs": [],
   "source": [
    "#write code here\n",
    "from sklearn.preprocessing import LabelEncoder"
   ]
  },
  {
   "cell_type": "markdown",
   "id": "f45ca6e8",
   "metadata": {
    "papermill": {
     "duration": 0.036236,
     "end_time": "2022-09-19T05:12:39.443677",
     "exception": false,
     "start_time": "2022-09-19T05:12:39.407441",
     "status": "completed"
    },
    "tags": []
   },
   "source": [
    "**Data Encoding**"
   ]
  },
  {
   "cell_type": "code",
   "execution_count": 47,
   "id": "97004757",
   "metadata": {
    "execution": {
     "iopub.execute_input": "2022-09-19T05:12:39.520390Z",
     "iopub.status.busy": "2022-09-19T05:12:39.519788Z",
     "iopub.status.idle": "2022-09-19T05:12:39.798204Z",
     "shell.execute_reply": "2022-09-19T05:12:39.796950Z"
    },
    "papermill": {
     "duration": 0.320882,
     "end_time": "2022-09-19T05:12:39.801070",
     "exception": false,
     "start_time": "2022-09-19T05:12:39.480188",
     "status": "completed"
    },
    "tags": []
   },
   "outputs": [],
   "source": [
    "lab_en = LabelEncoder()\n",
    "df.iloc[:,1] = lab_en.fit_transform(df.iloc[:,1])\n",
    "df.iloc[:,2] = lab_en.fit_transform(df.iloc[:,2])\n",
    "df.iloc[:,3] = lab_en.fit_transform(df.iloc[:,3])\n",
    "df.iloc[:,5] = lab_en.fit_transform(df.iloc[:,5])\n",
    "df.iloc[:,6] = lab_en.fit_transform(df.iloc[:,6])"
   ]
  },
  {
   "cell_type": "code",
   "execution_count": 48,
   "id": "ab439e3d",
   "metadata": {
    "execution": {
     "iopub.execute_input": "2022-09-19T05:12:39.876239Z",
     "iopub.status.busy": "2022-09-19T05:12:39.875826Z",
     "iopub.status.idle": "2022-09-19T05:12:39.880721Z",
     "shell.execute_reply": "2022-09-19T05:12:39.879459Z"
    },
    "papermill": {
     "duration": 0.045157,
     "end_time": "2022-09-19T05:12:39.883023",
     "exception": false,
     "start_time": "2022-09-19T05:12:39.837866",
     "status": "completed"
    },
    "tags": []
   },
   "outputs": [],
   "source": [
    "# df=df_OneHot.copy()"
   ]
  },
  {
   "cell_type": "code",
   "execution_count": 49,
   "id": "7e03d432",
   "metadata": {
    "execution": {
     "iopub.execute_input": "2022-09-19T05:12:39.958940Z",
     "iopub.status.busy": "2022-09-19T05:12:39.958487Z",
     "iopub.status.idle": "2022-09-19T05:12:39.971579Z",
     "shell.execute_reply": "2022-09-19T05:12:39.970721Z"
    },
    "papermill": {
     "duration": 0.054539,
     "end_time": "2022-09-19T05:12:39.973695",
     "exception": false,
     "start_time": "2022-09-19T05:12:39.919156",
     "status": "completed"
    },
    "tags": []
   },
   "outputs": [
    {
     "data": {
      "text/html": [
       "<div>\n",
       "<style scoped>\n",
       "    .dataframe tbody tr th:only-of-type {\n",
       "        vertical-align: middle;\n",
       "    }\n",
       "\n",
       "    .dataframe tbody tr th {\n",
       "        vertical-align: top;\n",
       "    }\n",
       "\n",
       "    .dataframe thead th {\n",
       "        text-align: right;\n",
       "    }\n",
       "</style>\n",
       "<table border=\"1\" class=\"dataframe\">\n",
       "  <thead>\n",
       "    <tr style=\"text-align: right;\">\n",
       "      <th></th>\n",
       "      <th>index</th>\n",
       "      <th>origin</th>\n",
       "      <th>destination</th>\n",
       "      <th>train_type</th>\n",
       "      <th>price</th>\n",
       "      <th>train_class</th>\n",
       "      <th>fare</th>\n",
       "      <th>travel_time_in_hrs</th>\n",
       "    </tr>\n",
       "  </thead>\n",
       "  <tbody>\n",
       "    <tr>\n",
       "      <th>0</th>\n",
       "      <td>0</td>\n",
       "      <td>2</td>\n",
       "      <td>1</td>\n",
       "      <td>11</td>\n",
       "      <td>59.50</td>\n",
       "      <td>4</td>\n",
       "      <td>1</td>\n",
       "      <td>4.700000</td>\n",
       "    </tr>\n",
       "    <tr>\n",
       "      <th>1</th>\n",
       "      <td>1</td>\n",
       "      <td>2</td>\n",
       "      <td>1</td>\n",
       "      <td>11</td>\n",
       "      <td>34.65</td>\n",
       "      <td>4</td>\n",
       "      <td>4</td>\n",
       "      <td>5.800000</td>\n",
       "    </tr>\n",
       "    <tr>\n",
       "      <th>2</th>\n",
       "      <td>2</td>\n",
       "      <td>2</td>\n",
       "      <td>1</td>\n",
       "      <td>12</td>\n",
       "      <td>39.95</td>\n",
       "      <td>4</td>\n",
       "      <td>4</td>\n",
       "      <td>5.916667</td>\n",
       "    </tr>\n",
       "    <tr>\n",
       "      <th>3</th>\n",
       "      <td>3</td>\n",
       "      <td>2</td>\n",
       "      <td>1</td>\n",
       "      <td>11</td>\n",
       "      <td>40.60</td>\n",
       "      <td>4</td>\n",
       "      <td>4</td>\n",
       "      <td>4.983333</td>\n",
       "    </tr>\n",
       "    <tr>\n",
       "      <th>4</th>\n",
       "      <td>4</td>\n",
       "      <td>2</td>\n",
       "      <td>1</td>\n",
       "      <td>0</td>\n",
       "      <td>27.90</td>\n",
       "      <td>2</td>\n",
       "      <td>3</td>\n",
       "      <td>4.133333</td>\n",
       "    </tr>\n",
       "  </tbody>\n",
       "</table>\n",
       "</div>"
      ],
      "text/plain": [
       "   index  origin  destination  train_type  price  train_class  fare  \\\n",
       "0      0       2            1          11  59.50            4     1   \n",
       "1      1       2            1          11  34.65            4     4   \n",
       "2      2       2            1          12  39.95            4     4   \n",
       "3      3       2            1          11  40.60            4     4   \n",
       "4      4       2            1           0  27.90            2     3   \n",
       "\n",
       "   travel_time_in_hrs  \n",
       "0            4.700000  \n",
       "1            5.800000  \n",
       "2            5.916667  \n",
       "3            4.983333  \n",
       "4            4.133333  "
      ]
     },
     "execution_count": 49,
     "metadata": {},
     "output_type": "execute_result"
    }
   ],
   "source": [
    "df.head()"
   ]
  },
  {
   "cell_type": "markdown",
   "id": "2bcb2c39",
   "metadata": {
    "papermill": {
     "duration": 0.036999,
     "end_time": "2022-09-19T05:12:40.047678",
     "exception": false,
     "start_time": "2022-09-19T05:12:40.010679",
     "status": "completed"
    },
    "tags": []
   },
   "source": [
    "#### Task 34: Separate the dependant and independant variables"
   ]
  },
  {
   "cell_type": "code",
   "execution_count": 50,
   "id": "10027a45",
   "metadata": {
    "execution": {
     "iopub.execute_input": "2022-09-19T05:12:40.126375Z",
     "iopub.status.busy": "2022-09-19T05:12:40.125109Z",
     "iopub.status.idle": "2022-09-19T05:12:40.142188Z",
     "shell.execute_reply": "2022-09-19T05:12:40.140827Z"
    },
    "papermill": {
     "duration": 0.058098,
     "end_time": "2022-09-19T05:12:40.144869",
     "exception": false,
     "start_time": "2022-09-19T05:12:40.086771",
     "status": "completed"
    },
    "tags": []
   },
   "outputs": [],
   "source": [
    "#write code here\n",
    "X=df.drop(['price'],axis=1)\n",
    "Y=df['price']"
   ]
  },
  {
   "cell_type": "code",
   "execution_count": 51,
   "id": "be1ce901",
   "metadata": {
    "execution": {
     "iopub.execute_input": "2022-09-19T05:12:40.223679Z",
     "iopub.status.busy": "2022-09-19T05:12:40.222763Z",
     "iopub.status.idle": "2022-09-19T05:12:40.241443Z",
     "shell.execute_reply": "2022-09-19T05:12:40.240125Z"
    },
    "papermill": {
     "duration": 0.061853,
     "end_time": "2022-09-19T05:12:40.244245",
     "exception": false,
     "start_time": "2022-09-19T05:12:40.182392",
     "status": "completed"
    },
    "tags": []
   },
   "outputs": [],
   "source": [
    "X = df.iloc[:,[1,2,3,5,6,7]].values\n",
    "Y = df.iloc[:,4].values"
   ]
  },
  {
   "cell_type": "markdown",
   "id": "fa72dcca",
   "metadata": {
    "papermill": {
     "duration": 0.037278,
     "end_time": "2022-09-19T05:12:40.319227",
     "exception": false,
     "start_time": "2022-09-19T05:12:40.281949",
     "status": "completed"
    },
    "tags": []
   },
   "source": [
    "#### Task 35: Import test_train_split from sklearn"
   ]
  },
  {
   "cell_type": "code",
   "execution_count": 52,
   "id": "d5783fbb",
   "metadata": {
    "execution": {
     "iopub.execute_input": "2022-09-19T05:12:40.396013Z",
     "iopub.status.busy": "2022-09-19T05:12:40.395290Z",
     "iopub.status.idle": "2022-09-19T05:12:40.461762Z",
     "shell.execute_reply": "2022-09-19T05:12:40.460386Z"
    },
    "papermill": {
     "duration": 0.108864,
     "end_time": "2022-09-19T05:12:40.464820",
     "exception": false,
     "start_time": "2022-09-19T05:12:40.355956",
     "status": "completed"
    },
    "tags": []
   },
   "outputs": [],
   "source": [
    "#write code here\n",
    "from sklearn.model_selection import train_test_split"
   ]
  },
  {
   "cell_type": "markdown",
   "id": "f6e148e2",
   "metadata": {
    "papermill": {
     "duration": 0.036201,
     "end_time": "2022-09-19T05:12:40.539127",
     "exception": false,
     "start_time": "2022-09-19T05:12:40.502926",
     "status": "completed"
    },
    "tags": []
   },
   "source": [
    "#### Task 36:**Split the data into training and test set**"
   ]
  },
  {
   "cell_type": "code",
   "execution_count": 53,
   "id": "5db72a77",
   "metadata": {
    "execution": {
     "iopub.execute_input": "2022-09-19T05:12:40.615774Z",
     "iopub.status.busy": "2022-09-19T05:12:40.614008Z",
     "iopub.status.idle": "2022-09-19T05:12:40.646940Z",
     "shell.execute_reply": "2022-09-19T05:12:40.645680Z"
    },
    "papermill": {
     "duration": 0.073823,
     "end_time": "2022-09-19T05:12:40.649784",
     "exception": false,
     "start_time": "2022-09-19T05:12:40.575961",
     "status": "completed"
    },
    "tags": []
   },
   "outputs": [],
   "source": [
    "#write code here\n",
    "X_train,X_test,Y_train,Y_test = train_test_split(X,Y,test_size=0.1,random_state=5)"
   ]
  },
  {
   "cell_type": "markdown",
   "id": "ad7a10e2",
   "metadata": {
    "papermill": {
     "duration": 0.037903,
     "end_time": "2022-09-19T05:12:40.725638",
     "exception": false,
     "start_time": "2022-09-19T05:12:40.687735",
     "status": "completed"
    },
    "tags": []
   },
   "source": [
    "#### Task 37: Import LinearRegression library from sklearn"
   ]
  },
  {
   "cell_type": "code",
   "execution_count": 54,
   "id": "6e20b2ce",
   "metadata": {
    "execution": {
     "iopub.execute_input": "2022-09-19T05:12:40.801689Z",
     "iopub.status.busy": "2022-09-19T05:12:40.801094Z",
     "iopub.status.idle": "2022-09-19T05:12:40.881701Z",
     "shell.execute_reply": "2022-09-19T05:12:40.880659Z"
    },
    "papermill": {
     "duration": 0.121264,
     "end_time": "2022-09-19T05:12:40.884485",
     "exception": false,
     "start_time": "2022-09-19T05:12:40.763221",
     "status": "completed"
    },
    "tags": []
   },
   "outputs": [],
   "source": [
    "#write code here\n",
    "from sklearn.linear_model import LinearRegression"
   ]
  },
  {
   "cell_type": "markdown",
   "id": "69f5fd88",
   "metadata": {
    "papermill": {
     "duration": 0.036579,
     "end_time": "2022-09-19T05:12:40.959500",
     "exception": false,
     "start_time": "2022-09-19T05:12:40.922921",
     "status": "completed"
    },
    "tags": []
   },
   "source": [
    "#### Task 38: Make an object of LinearRegression( ) and train it using the training data set"
   ]
  },
  {
   "cell_type": "code",
   "execution_count": 55,
   "id": "4ef138c0",
   "metadata": {
    "execution": {
     "iopub.execute_input": "2022-09-19T05:12:41.035713Z",
     "iopub.status.busy": "2022-09-19T05:12:41.035009Z",
     "iopub.status.idle": "2022-09-19T05:12:41.101250Z",
     "shell.execute_reply": "2022-09-19T05:12:41.099671Z"
    },
    "papermill": {
     "duration": 0.106952,
     "end_time": "2022-09-19T05:12:41.103781",
     "exception": false,
     "start_time": "2022-09-19T05:12:40.996829",
     "status": "completed"
    },
    "tags": []
   },
   "outputs": [
    {
     "data": {
      "text/plain": [
       "LinearRegression()"
      ]
     },
     "execution_count": 55,
     "metadata": {},
     "output_type": "execute_result"
    }
   ],
   "source": [
    "#write code here\n",
    "lr = LinearRegression()             \n",
    "lr.fit(X_train,Y_train)"
   ]
  },
  {
   "cell_type": "code",
   "execution_count": 56,
   "id": "a756ebdf",
   "metadata": {
    "execution": {
     "iopub.execute_input": "2022-09-19T05:12:41.180670Z",
     "iopub.status.busy": "2022-09-19T05:12:41.180256Z",
     "iopub.status.idle": "2022-09-19T05:12:41.202007Z",
     "shell.execute_reply": "2022-09-19T05:12:41.200304Z"
    },
    "papermill": {
     "duration": 0.065106,
     "end_time": "2022-09-19T05:12:41.206621",
     "exception": false,
     "start_time": "2022-09-19T05:12:41.141515",
     "status": "completed"
    },
    "tags": []
   },
   "outputs": [
    {
     "data": {
      "text/plain": [
       "0.7201678934104435"
      ]
     },
     "execution_count": 56,
     "metadata": {},
     "output_type": "execute_result"
    }
   ],
   "source": [
    "#write code here\n",
    "lr.score(X_test,Y_test)"
   ]
  },
  {
   "cell_type": "markdown",
   "id": "140c9574",
   "metadata": {
    "papermill": {
     "duration": 0.039427,
     "end_time": "2022-09-19T05:12:41.343360",
     "exception": false,
     "start_time": "2022-09-19T05:12:41.303933",
     "status": "completed"
    },
    "tags": []
   },
   "source": [
    "#### Task 39: Find out the predictions using test data set."
   ]
  },
  {
   "cell_type": "code",
   "execution_count": 57,
   "id": "5d52292c",
   "metadata": {
    "execution": {
     "iopub.execute_input": "2022-09-19T05:12:41.420032Z",
     "iopub.status.busy": "2022-09-19T05:12:41.419529Z",
     "iopub.status.idle": "2022-09-19T05:12:41.430015Z",
     "shell.execute_reply": "2022-09-19T05:12:41.428279Z"
    },
    "papermill": {
     "duration": 0.053714,
     "end_time": "2022-09-19T05:12:41.434463",
     "exception": false,
     "start_time": "2022-09-19T05:12:41.380749",
     "status": "completed"
    },
    "tags": []
   },
   "outputs": [],
   "source": [
    "#write code here\n",
    "lr_predict=lr.predict(X_test)"
   ]
  },
  {
   "cell_type": "markdown",
   "id": "a4c47f85",
   "metadata": {
    "papermill": {
     "duration": 0.042526,
     "end_time": "2022-09-19T05:12:41.578812",
     "exception": false,
     "start_time": "2022-09-19T05:12:41.536286",
     "status": "completed"
    },
    "tags": []
   },
   "source": [
    "#### Task 40: Find out the predictions using training data set."
   ]
  },
  {
   "cell_type": "code",
   "execution_count": 58,
   "id": "e5ffb0a1",
   "metadata": {
    "execution": {
     "iopub.execute_input": "2022-09-19T05:12:41.656216Z",
     "iopub.status.busy": "2022-09-19T05:12:41.655720Z",
     "iopub.status.idle": "2022-09-19T05:12:41.665830Z",
     "shell.execute_reply": "2022-09-19T05:12:41.664022Z"
    },
    "papermill": {
     "duration": 0.054173,
     "end_time": "2022-09-19T05:12:41.670456",
     "exception": false,
     "start_time": "2022-09-19T05:12:41.616283",
     "status": "completed"
    },
    "tags": []
   },
   "outputs": [],
   "source": [
    "#write code here\n",
    "lr_predict_train=lr.predict(X_train)"
   ]
  },
  {
   "cell_type": "markdown",
   "id": "1e3ef9a3",
   "metadata": {
    "papermill": {
     "duration": 0.045824,
     "end_time": "2022-09-19T05:12:41.815446",
     "exception": false,
     "start_time": "2022-09-19T05:12:41.769622",
     "status": "completed"
    },
    "tags": []
   },
   "source": [
    "#### Task 41: Import r2_score library form sklearn"
   ]
  },
  {
   "cell_type": "code",
   "execution_count": 59,
   "id": "8195cb79",
   "metadata": {
    "execution": {
     "iopub.execute_input": "2022-09-19T05:12:41.891901Z",
     "iopub.status.busy": "2022-09-19T05:12:41.891417Z",
     "iopub.status.idle": "2022-09-19T05:12:41.898127Z",
     "shell.execute_reply": "2022-09-19T05:12:41.896868Z"
    },
    "papermill": {
     "duration": 0.047988,
     "end_time": "2022-09-19T05:12:41.900791",
     "exception": false,
     "start_time": "2022-09-19T05:12:41.852803",
     "status": "completed"
    },
    "tags": []
   },
   "outputs": [],
   "source": [
    "#write code here\n",
    "from sklearn.metrics import r2_score\n",
    "lr_r2_test= r2_score(Y_test, lr_predict)"
   ]
  },
  {
   "cell_type": "markdown",
   "id": "bf683333",
   "metadata": {
    "papermill": {
     "duration": 0.037378,
     "end_time": "2022-09-19T05:12:41.976920",
     "exception": false,
     "start_time": "2022-09-19T05:12:41.939542",
     "status": "completed"
    },
    "tags": []
   },
   "source": [
    "#### Task 42: Find out the R2 Score for test data and print it."
   ]
  },
  {
   "cell_type": "code",
   "execution_count": 60,
   "id": "5c0c0fe7",
   "metadata": {
    "execution": {
     "iopub.execute_input": "2022-09-19T05:12:42.056307Z",
     "iopub.status.busy": "2022-09-19T05:12:42.055891Z",
     "iopub.status.idle": "2022-09-19T05:12:42.063229Z",
     "shell.execute_reply": "2022-09-19T05:12:42.062244Z"
    },
    "papermill": {
     "duration": 0.049712,
     "end_time": "2022-09-19T05:12:42.065898",
     "exception": false,
     "start_time": "2022-09-19T05:12:42.016186",
     "status": "completed"
    },
    "tags": []
   },
   "outputs": [],
   "source": [
    "#write code here\n",
    "lr_r2_train= r2_score(Y_train, lr_predict_train)"
   ]
  },
  {
   "cell_type": "markdown",
   "id": "fdb47147",
   "metadata": {
    "papermill": {
     "duration": 0.037685,
     "end_time": "2022-09-19T05:12:42.142699",
     "exception": false,
     "start_time": "2022-09-19T05:12:42.105014",
     "status": "completed"
    },
    "tags": []
   },
   "source": [
    "#### Task 43: Find out the R2 Score for training data and print it."
   ]
  },
  {
   "cell_type": "code",
   "execution_count": 61,
   "id": "e8f412f8",
   "metadata": {
    "execution": {
     "iopub.execute_input": "2022-09-19T05:12:42.220127Z",
     "iopub.status.busy": "2022-09-19T05:12:42.219736Z",
     "iopub.status.idle": "2022-09-19T05:12:42.224623Z",
     "shell.execute_reply": "2022-09-19T05:12:42.223529Z"
    },
    "papermill": {
     "duration": 0.046108,
     "end_time": "2022-09-19T05:12:42.226846",
     "exception": false,
     "start_time": "2022-09-19T05:12:42.180738",
     "status": "completed"
    },
    "tags": []
   },
   "outputs": [],
   "source": [
    "lr_r2_train = None"
   ]
  },
  {
   "cell_type": "markdown",
   "id": "507275e5",
   "metadata": {
    "papermill": {
     "duration": 0.037156,
     "end_time": "2022-09-19T05:12:42.301234",
     "exception": false,
     "start_time": "2022-09-19T05:12:42.264078",
     "status": "completed"
    },
    "tags": []
   },
   "source": [
    "Comaparing training and testing R2 scores"
   ]
  },
  {
   "cell_type": "code",
   "execution_count": 62,
   "id": "71d55151",
   "metadata": {
    "execution": {
     "iopub.execute_input": "2022-09-19T05:12:42.378061Z",
     "iopub.status.busy": "2022-09-19T05:12:42.377269Z",
     "iopub.status.idle": "2022-09-19T05:12:42.383087Z",
     "shell.execute_reply": "2022-09-19T05:12:42.381971Z"
    },
    "papermill": {
     "duration": 0.048251,
     "end_time": "2022-09-19T05:12:42.386455",
     "exception": false,
     "start_time": "2022-09-19T05:12:42.338204",
     "status": "completed"
    },
    "tags": []
   },
   "outputs": [
    {
     "name": "stdout",
     "output_type": "stream",
     "text": [
      "R2 score for Linear Regression Testing Data is:  None\n",
      "R2 score for Linear Regression Testing Data is:  0.7201678934104435\n"
     ]
    }
   ],
   "source": [
    "print('R2 score for Linear Regression Testing Data is: ', lr_r2_train)\n",
    "print('R2 score for Linear Regression Testing Data is: ', lr_r2_test)"
   ]
  },
  {
   "cell_type": "markdown",
   "id": "9986eda1",
   "metadata": {
    "papermill": {
     "duration": 0.050574,
     "end_time": "2022-09-19T05:12:42.484766",
     "exception": false,
     "start_time": "2022-09-19T05:12:42.434192",
     "status": "completed"
    },
    "tags": []
   },
   "source": [
    "# Applying Polynomial Regression"
   ]
  },
  {
   "cell_type": "markdown",
   "id": "83e8eda3",
   "metadata": {
    "papermill": {
     "duration": 0.037111,
     "end_time": "2022-09-19T05:12:42.563087",
     "exception": false,
     "start_time": "2022-09-19T05:12:42.525976",
     "status": "completed"
    },
    "tags": []
   },
   "source": [
    "#### Task 44: Import PolynomialFeatures from sklearn"
   ]
  },
  {
   "cell_type": "code",
   "execution_count": 63,
   "id": "250b2795",
   "metadata": {
    "execution": {
     "iopub.execute_input": "2022-09-19T05:12:42.639134Z",
     "iopub.status.busy": "2022-09-19T05:12:42.638554Z",
     "iopub.status.idle": "2022-09-19T05:12:42.642876Z",
     "shell.execute_reply": "2022-09-19T05:12:42.641896Z"
    },
    "papermill": {
     "duration": 0.044867,
     "end_time": "2022-09-19T05:12:42.645075",
     "exception": false,
     "start_time": "2022-09-19T05:12:42.600208",
     "status": "completed"
    },
    "tags": []
   },
   "outputs": [],
   "source": [
    "#write code here\n",
    "from sklearn.preprocessing import PolynomialFeatures"
   ]
  },
  {
   "cell_type": "markdown",
   "id": "b69f7e0c",
   "metadata": {
    "papermill": {
     "duration": 0.037145,
     "end_time": "2022-09-19T05:12:42.719351",
     "exception": false,
     "start_time": "2022-09-19T05:12:42.682206",
     "status": "completed"
    },
    "tags": []
   },
   "source": [
    "#### Task 45: Make and object of default Polynomial Features"
   ]
  },
  {
   "cell_type": "code",
   "execution_count": 64,
   "id": "b92a8b55",
   "metadata": {
    "execution": {
     "iopub.execute_input": "2022-09-19T05:12:42.795822Z",
     "iopub.status.busy": "2022-09-19T05:12:42.795383Z",
     "iopub.status.idle": "2022-09-19T05:12:42.800115Z",
     "shell.execute_reply": "2022-09-19T05:12:42.798957Z"
    },
    "papermill": {
     "duration": 0.045687,
     "end_time": "2022-09-19T05:12:42.802453",
     "exception": false,
     "start_time": "2022-09-19T05:12:42.756766",
     "status": "completed"
    },
    "tags": []
   },
   "outputs": [],
   "source": [
    "#write code here\n",
    "\n",
    "poly_reg = PolynomialFeatures()"
   ]
  },
  {
   "cell_type": "markdown",
   "id": "b5281915",
   "metadata": {
    "papermill": {
     "duration": 0.037995,
     "end_time": "2022-09-19T05:12:42.878166",
     "exception": false,
     "start_time": "2022-09-19T05:12:42.840171",
     "status": "completed"
    },
    "tags": []
   },
   "source": [
    "#### Task 46: Transform the features to higher degree features."
   ]
  },
  {
   "cell_type": "code",
   "execution_count": 65,
   "id": "a1229b93",
   "metadata": {
    "execution": {
     "iopub.execute_input": "2022-09-19T05:12:42.955821Z",
     "iopub.status.busy": "2022-09-19T05:12:42.954954Z",
     "iopub.status.idle": "2022-09-19T05:12:43.050328Z",
     "shell.execute_reply": "2022-09-19T05:12:43.049058Z"
    },
    "papermill": {
     "duration": 0.137978,
     "end_time": "2022-09-19T05:12:43.053519",
     "exception": false,
     "start_time": "2022-09-19T05:12:42.915541",
     "status": "completed"
    },
    "tags": []
   },
   "outputs": [],
   "source": [
    "#write code here\n",
    "X_train_poly,X_test_poly = poly_reg.fit_transform(X_train),poly_reg.fit_transform(X_test)"
   ]
  },
  {
   "cell_type": "markdown",
   "id": "dc621ce5",
   "metadata": {
    "papermill": {
     "duration": 0.036952,
     "end_time": "2022-09-19T05:12:43.129061",
     "exception": false,
     "start_time": "2022-09-19T05:12:43.092109",
     "status": "completed"
    },
    "tags": []
   },
   "source": [
    "#### Task 47: Fit the transformed features to Linear Regression"
   ]
  },
  {
   "cell_type": "code",
   "execution_count": 66,
   "id": "9ac060a9",
   "metadata": {
    "execution": {
     "iopub.execute_input": "2022-09-19T05:12:43.206834Z",
     "iopub.status.busy": "2022-09-19T05:12:43.206441Z",
     "iopub.status.idle": "2022-09-19T05:12:43.420129Z",
     "shell.execute_reply": "2022-09-19T05:12:43.418606Z"
    },
    "papermill": {
     "duration": 0.25806,
     "end_time": "2022-09-19T05:12:43.425275",
     "exception": false,
     "start_time": "2022-09-19T05:12:43.167215",
     "status": "completed"
    },
    "tags": []
   },
   "outputs": [
    {
     "data": {
      "text/plain": [
       "LinearRegression()"
      ]
     },
     "execution_count": 66,
     "metadata": {},
     "output_type": "execute_result"
    }
   ],
   "source": [
    "#write code he\n",
    "poly_model = LinearRegression()\n",
    "poly_model.fit(X_train_poly, Y_train)"
   ]
  },
  {
   "cell_type": "markdown",
   "id": "f145b98a",
   "metadata": {
    "papermill": {
     "duration": 0.037279,
     "end_time": "2022-09-19T05:12:43.547792",
     "exception": false,
     "start_time": "2022-09-19T05:12:43.510513",
     "status": "completed"
    },
    "tags": []
   },
   "source": [
    "#### Task 48: Find the predictions on the data set"
   ]
  },
  {
   "cell_type": "code",
   "execution_count": 67,
   "id": "70fcdd7e",
   "metadata": {
    "execution": {
     "iopub.execute_input": "2022-09-19T05:12:43.624754Z",
     "iopub.status.busy": "2022-09-19T05:12:43.624316Z",
     "iopub.status.idle": "2022-09-19T05:12:43.643216Z",
     "shell.execute_reply": "2022-09-19T05:12:43.641480Z"
    },
    "papermill": {
     "duration": 0.06215,
     "end_time": "2022-09-19T05:12:43.647623",
     "exception": false,
     "start_time": "2022-09-19T05:12:43.585473",
     "status": "completed"
    },
    "tags": []
   },
   "outputs": [],
   "source": [
    "#write code here\n",
    "y_train_predicted,y_test_predict = poly_model.predict(X_train_poly),poly_model.predict(X_test_poly)"
   ]
  },
  {
   "cell_type": "markdown",
   "id": "4e29961f",
   "metadata": {
    "papermill": {
     "duration": 0.046776,
     "end_time": "2022-09-19T05:12:43.792983",
     "exception": false,
     "start_time": "2022-09-19T05:12:43.746207",
     "status": "completed"
    },
    "tags": []
   },
   "source": [
    "#### Task 49: Evaluate R2 score for training data set"
   ]
  },
  {
   "cell_type": "code",
   "execution_count": 68,
   "id": "fdb049b1",
   "metadata": {
    "execution": {
     "iopub.execute_input": "2022-09-19T05:12:43.870883Z",
     "iopub.status.busy": "2022-09-19T05:12:43.870472Z",
     "iopub.status.idle": "2022-09-19T05:12:43.876995Z",
     "shell.execute_reply": "2022-09-19T05:12:43.876189Z"
    },
    "papermill": {
     "duration": 0.04799,
     "end_time": "2022-09-19T05:12:43.879054",
     "exception": false,
     "start_time": "2022-09-19T05:12:43.831064",
     "status": "completed"
    },
    "tags": []
   },
   "outputs": [],
   "source": [
    "#evaluating the model on training dataset\n",
    "#write code here\n",
    "r2_train = r2_score(Y_train, y_train_predicted)"
   ]
  },
  {
   "cell_type": "markdown",
   "id": "17d0918f",
   "metadata": {
    "papermill": {
     "duration": 0.038133,
     "end_time": "2022-09-19T05:12:43.955686",
     "exception": false,
     "start_time": "2022-09-19T05:12:43.917553",
     "status": "completed"
    },
    "tags": []
   },
   "source": [
    "#### Task 50: Evaluate R2 score for test data set"
   ]
  },
  {
   "cell_type": "code",
   "execution_count": 69,
   "id": "c47ff9f0",
   "metadata": {
    "execution": {
     "iopub.execute_input": "2022-09-19T05:12:44.035437Z",
     "iopub.status.busy": "2022-09-19T05:12:44.034777Z",
     "iopub.status.idle": "2022-09-19T05:12:44.039622Z",
     "shell.execute_reply": "2022-09-19T05:12:44.038827Z"
    },
    "papermill": {
     "duration": 0.047436,
     "end_time": "2022-09-19T05:12:44.041959",
     "exception": false,
     "start_time": "2022-09-19T05:12:43.994523",
     "status": "completed"
    },
    "tags": []
   },
   "outputs": [],
   "source": [
    "r2_test = r2_score(Y_test, y_test_predict)"
   ]
  },
  {
   "cell_type": "markdown",
   "id": "54e71991",
   "metadata": {
    "papermill": {
     "duration": 0.039791,
     "end_time": "2022-09-19T05:12:44.120237",
     "exception": false,
     "start_time": "2022-09-19T05:12:44.080446",
     "status": "completed"
    },
    "tags": []
   },
   "source": [
    "Comaparing training and testing R2 scores"
   ]
  },
  {
   "cell_type": "code",
   "execution_count": 70,
   "id": "94fc8bf4",
   "metadata": {
    "execution": {
     "iopub.execute_input": "2022-09-19T05:12:44.200380Z",
     "iopub.status.busy": "2022-09-19T05:12:44.199671Z",
     "iopub.status.idle": "2022-09-19T05:12:44.205419Z",
     "shell.execute_reply": "2022-09-19T05:12:44.203726Z"
    },
    "papermill": {
     "duration": 0.048995,
     "end_time": "2022-09-19T05:12:44.208294",
     "exception": false,
     "start_time": "2022-09-19T05:12:44.159299",
     "status": "completed"
    },
    "scrolled": true,
    "tags": []
   },
   "outputs": [
    {
     "name": "stdout",
     "output_type": "stream",
     "text": [
      "The r2 score for training set is:  0.8207986510950032\n",
      "The r2 score for testing set is:  0.8169901199004914\n"
     ]
    }
   ],
   "source": [
    "#write code here\n",
    "print ('The r2 score for training set is: ',r2_train)\n",
    "print ('The r2 score for testing set is: ',r2_test)"
   ]
  },
  {
   "cell_type": "markdown",
   "id": "12966d83",
   "metadata": {
    "papermill": {
     "duration": 0.037588,
     "end_time": "2022-09-19T05:12:44.283736",
     "exception": false,
     "start_time": "2022-09-19T05:12:44.246148",
     "status": "completed"
    },
    "tags": []
   },
   "source": [
    "#### Task 51: Select the best model"
   ]
  },
  {
   "cell_type": "markdown",
   "id": "ea5bd897",
   "metadata": {
    "papermill": {
     "duration": 0.039811,
     "end_time": "2022-09-19T05:12:44.361190",
     "exception": false,
     "start_time": "2022-09-19T05:12:44.321379",
     "status": "completed"
    },
    "tags": []
   },
   "source": [
    "**Question: Which model gives the best result for price prediction? Find out the complexity using R2 score and give your answer.**<br>\n",
    "*Hint: Use for loop for finding the best degree and model complexity for polynomial regression model*"
   ]
  },
  {
   "cell_type": "code",
   "execution_count": 71,
   "id": "c7632a73",
   "metadata": {
    "execution": {
     "iopub.execute_input": "2022-09-19T05:12:44.438784Z",
     "iopub.status.busy": "2022-09-19T05:12:44.438383Z",
     "iopub.status.idle": "2022-09-19T05:12:57.106699Z",
     "shell.execute_reply": "2022-09-19T05:12:57.104827Z"
    },
    "papermill": {
     "duration": 12.71287,
     "end_time": "2022-09-19T05:12:57.111809",
     "exception": false,
     "start_time": "2022-09-19T05:12:44.398939",
     "status": "completed"
    },
    "tags": []
   },
   "outputs": [
    {
     "name": "stdout",
     "output_type": "stream",
     "text": [
      "R2 Train [0.7273859933474708, 0.8207986510950032, 0.8454530318513879, 0.8633305910920515, 0.8695280619546452]\n",
      "R2 Test [0.7201678934104435, 0.8169901199004914, 0.8426082814130748, 0.8056120239378078, -10978103.90935986]\n"
     ]
    }
   ],
   "source": [
    "#write code here\n",
    "r2_train=[]\n",
    "r2_test=[]\n",
    "for i in range(1,6):\n",
    "    poly_reg = PolynomialFeatures(degree=i)\n",
    "    \n",
    "    X_tr_poly,X_tst_poly= poly_reg.fit_transform(X_train),poly_reg.fit_transform(X_test)\n",
    "    \n",
    "    poly = LinearRegression()\n",
    "    poly.fit(X_tr_poly, Y_train)\n",
    "   \n",
    "    y_tr_predicted,y_tst_predict = poly.predict(X_tr_poly),poly.predict(X_tst_poly)\n",
    "   \n",
    "    r2_train.append(r2_score(Y_train, y_tr_predicted))\n",
    "    r2_test.append(r2_score(Y_test, y_tst_predict))\n",
    "    \n",
    "print ('R2 Train', r2_train)\n",
    "print ('R2 Test', r2_test)"
   ]
  },
  {
   "cell_type": "markdown",
   "id": "b3c7d758",
   "metadata": {
    "papermill": {
     "duration": 0.042126,
     "end_time": "2022-09-19T05:12:57.253515",
     "exception": false,
     "start_time": "2022-09-19T05:12:57.211389",
     "status": "completed"
    },
    "tags": []
   },
   "source": [
    "#### Plotting the model"
   ]
  },
  {
   "cell_type": "code",
   "execution_count": 72,
   "id": "1579d828",
   "metadata": {
    "execution": {
     "iopub.execute_input": "2022-09-19T05:12:57.332443Z",
     "iopub.status.busy": "2022-09-19T05:12:57.332000Z",
     "iopub.status.idle": "2022-09-19T05:12:57.826618Z",
     "shell.execute_reply": "2022-09-19T05:12:57.825351Z"
    },
    "papermill": {
     "duration": 0.536962,
     "end_time": "2022-09-19T05:12:57.829247",
     "exception": false,
     "start_time": "2022-09-19T05:12:57.292285",
     "status": "completed"
    },
    "tags": []
   },
   "outputs": [
    {
     "data": {
      "image/png": "[encoded data removed]",
      "text/plain": [
       "<Figure size 1296x360 with 2 Axes>"
      ]
     },
     "metadata": {},
     "output_type": "display_data"
    }
   ],
   "source": [
    "plt.figure(figsize=(18,5))\n",
    "sns.set_context('poster')\n",
    "plt.subplot(1,2,1)\n",
    "sns.lineplot(x=list(range(1,6)), y=r2_train, label='Training');\n",
    "plt.subplot(1,2,2)\n",
    "sns.lineplot(x=list(range(1,6)), y=r2_test, label='Testing');"
   ]
  },
  {
   "cell_type": "markdown",
   "id": "d834621b",
   "metadata": {
    "papermill": {
     "duration": 0.038862,
     "end_time": "2022-09-19T05:12:57.906905",
     "exception": false,
     "start_time": "2022-09-19T05:12:57.868043",
     "status": "completed"
    },
    "tags": []
   },
   "source": [
    "**Answer** The model with degree 3 gives the best result"
   ]
  }
 ],
 "metadata": {
  "kernelspec": {
   "display_name": "Python 3",
   "language": "python",
   "name": "python3"
  },
  "language_info": {
   "codemirror_mode": {
    "name": "ipython",
    "version": 3
   },
   "file_extension": ".py",
   "mimetype": "text/x-python",
   "name": "python",
   "nbconvert_exporter": "python",
   "pygments_lexer": "ipython3",
   "version": "3.7.12"
  },
  "papermill": {
   "default_parameters": {},
   "duration": 60.070224,
   "end_time": "2022-09-19T05:12:58.870442",
   "environment_variables": {},
   "exception": null,
   "input_path": "__notebook__.ipynb",
   "output_path": "__notebook__.ipynb",
   "parameters": {},
   "start_time": "2022-09-19T05:11:58.800218",
   "version": "2.3.4"
  }
 },
 "nbformat": 4,
 "nbformat_minor": 5
}
